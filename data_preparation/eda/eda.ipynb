{
 "cells": [
  {
   "cell_type": "markdown",
   "metadata": {},
   "source": [
    "# Exploratory Data Analysis"
   ]
  },
  {
   "cell_type": "markdown",
   "metadata": {},
   "source": [
    "This notebook aims to explore the car feature dataset and uncover trends to help predict car\n",
    "prices. This notebookk will:\n",
    "\n",
    "- rank utility of features using mutual infomation\n",
    "- explore relationship of variables with price"
   ]
  },
  {
   "cell_type": "code",
   "execution_count": null,
   "metadata": {},
   "outputs": [],
   "source": [
    "from eda import *\n",
    "import matplotlib.pyplot as plt\n",
    "%matplotlib inline\n",
    "import seaborn as sns\n",
    "sns.set()"
   ]
  },
  {
   "cell_type": "code",
   "execution_count": null,
   "metadata": {},
   "outputs": [],
   "source": [
    "df = pd.read_pickle('car_data.pkl')\n",
    "df.head()"
   ]
  },
  {
   "cell_type": "code",
   "execution_count": null,
   "metadata": {},
   "outputs": [],
   "source": [
    "X = df.copy()\n",
    "y = X.pop('price')"
   ]
  },
  {
   "cell_type": "markdown",
   "metadata": {},
   "source": [
    "## Get mutual infomation scores"
   ]
  },
  {
   "cell_type": "code",
   "execution_count": null,
   "metadata": {},
   "outputs": [],
   "source": [
    "mi_scores = make_mi_scores(X, y)\n",
    "mi_scores[::3]"
   ]
  },
  {
   "cell_type": "markdown",
   "metadata": {},
   "source": [
    "Key variables like manufactured year and mileage look they have a effect of price as expected.\n",
    "By this metric valiables like doors and seats have little to no effect on price."
   ]
  },
  {
   "cell_type": "code",
   "execution_count": null,
   "metadata": {},
   "outputs": [],
   "source": [
    "plot_mi_scores(mi_scores)"
   ]
  },
  {
   "cell_type": "markdown",
   "metadata": {},
   "source": [
    "The price distribution shows that prices range up to £200,000 on the extreme upper end. However morst of the price data is below £60,000 as seen on the right side of the figure below. The data is also right skewed."
   ]
  },
  {
   "cell_type": "code",
   "execution_count": null,
   "metadata": {},
   "outputs": [],
   "source": [
    "plot_price_historgam_subplot(df)"
   ]
  },
  {
   "cell_type": "markdown",
   "metadata": {},
   "source": [
    "Plotting some of the numerical variables against price we can see trends below.\n",
    "1. Car length is ranked 1 for the mutual information scores and as seen in the chart there is a positive correlation between car length and price.\n",
    "2. Price seems to increase with boot space, but more so with the seats down measurement. This is also confirmed by the mutual information scores as the seats down measurement was ranked higher than the seats up measurement.\n",
    "3. Price increases with the wheelbase. There are some incorrect figures as some wheelbase data points are at 0mm which makes no sense.\n",
    "4. Height, manufactured ear and engine power all have strong positive correlations with price. "
   ]
  },
  {
   "cell_type": "code",
   "execution_count": null,
   "metadata": {},
   "outputs": [],
   "source": [
    "df_sample = df.sample(frac=.4, random_state=1)\n",
    "plot_eda_subplot1(df_sample)"
   ]
  },
  {
   "cell_type": "markdown",
   "metadata": {},
   "source": [
    "1. Engine torque, mileage, fuel tank capacity and CO2 emmissions seem to have strong correlations with price and will likely be useful in price prediction.\n",
    "2. The relationship between annual tax and price is unclear. Tax is ranked low on the mutual information scores.\n",
    "3. Price decreases with an increase in number of owners. Number of owners could be closely correlated with mileage."
   ]
  },
  {
   "cell_type": "code",
   "execution_count": null,
   "metadata": {},
   "outputs": [],
   "source": [
    "plot_eda_subplot2(df_sample)"
   ]
  },
  {
   "cell_type": "markdown",
   "metadata": {},
   "source": [
    "1. Price increases with top speed and engine size.\n",
    "2. Total sellers reviews does not have a clear trend with price.\n",
    "3. Combined, urban and extra urban ratings all seem to have a slight negative correlation with price although it's not very clear. These variables may not be good predictors of price."
   ]
  },
  {
   "cell_type": "code",
   "execution_count": null,
   "metadata": {},
   "outputs": [],
   "source": [
    "plot_eda_subplot3(df_sample)"
   ]
  },
  {
   "cell_type": "markdown",
   "metadata": {},
   "source": [
    "1. Longitude, doors, seats and number of photos do not have a clear correlation with price so will probably be useless for price prediction.\n",
    "2. Seller ratings is positively correlated with price. However not all sellers have ratings as some are private. This can lead a lot of data loss if this variable is used.\n",
    "3. Price increases with number of valves and cylinders."
   ]
  },
  {
   "cell_type": "code",
   "execution_count": null,
   "metadata": {},
   "outputs": [],
   "source": [
    "plot_eda_subplot4(df_sample)"
   ]
  },
  {
   "cell_type": "code",
   "execution_count": null,
   "metadata": {},
   "outputs": [],
   "source": [
    "plot_seats(df_sample)"
   ]
  },
  {
   "cell_type": "markdown",
   "metadata": {},
   "source": [
    "1. Figures 1 and 2 show the top ten makes and models in terms of price. It includes luxury cars such as maseratia and porshe.\n",
    "2. Automatic transmission cars have a higher median price than manuals\n",
    "3. Fuel type seems to have an effect on price. Diesel plugin hybrids have the highest median price.\n",
    "4. Body type does not seem to have much effect on price with the exception of the van. This has a higher median than the other body types."
   ]
  },
  {
   "cell_type": "code",
   "execution_count": null,
   "metadata": {},
   "outputs": [],
   "source": [
    "plot_eda_subplot5(df_sample)"
   ]
  },
  {
   "cell_type": "markdown",
   "metadata": {},
   "source": [
    "## Conclusions\n",
    "\n",
    "Based on the mutual information scores and visualisations, the following \n",
    "columns will not be used in model building as they will likely not help in predicting price:\n",
    "\n",
    "- number of photos\n",
    "- number of reviews\n",
    "- longitute and latitude\n",
    "- doors\n",
    "- seats\n",
    "- imported\n",
    "- region \n",
    "- sellers rating\n",
    "- ulez\n",
    "- cylinders\n",
    "- values\n",
    "- fuel type\n",
    "- body type\n",
    "- annual tax\n",
    "- seller segment\n",
    "- county\n",
    "- town\n",
    "- total reviews\n",
    "- combined \n",
    "\n",
    "\n",
    "1. Some of the wheelbase data is incorrect as there are zero values which does not make sense.\n",
    "2. Insurance group variable will be dropped as it's is likely influenced by price so will not be available at the time of prediction.\n",
    "3. The combined rating will be dropped as the data points do not have as much spread compared to price as the urban and extra urban ratings.\n",
    "4. The number of owners is likely correlated with mileage so will be discarded.#\n",
    "5. Make, model and trim all have high cardinality so if used will need to be encoded. \n"
   ]
  }
 ],
 "metadata": {
  "interpreter": {
   "hash": "55107866eff93953fdbb2b6f0292ad0a58d5c02f1d5c46ccd62bedde6522e08f"
  },
  "kernelspec": {
   "display_name": "Python 3.9.7 64-bit ('autotrader': pyenv)",
   "name": "python3"
  },
  "language_info": {
   "codemirror_mode": {
    "name": "ipython",
    "version": 3
   },
   "file_extension": ".py",
   "mimetype": "text/x-python",
   "name": "python",
   "nbconvert_exporter": "python",
   "pygments_lexer": "ipython3",
   "version": "3.9.7"
  },
  "orig_nbformat": 4
 },
 "nbformat": 4,
 "nbformat_minor": 2
}
