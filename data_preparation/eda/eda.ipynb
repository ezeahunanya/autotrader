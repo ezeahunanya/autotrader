{
 "cells": [
  {
   "cell_type": "markdown",
   "metadata": {},
   "source": [
    "# Exploratory Data Analysis"
   ]
  },
  {
   "cell_type": "markdown",
   "metadata": {},
   "source": [
    "This notebook aims to explore the car feature dataset and uncover trends to help predict car\n",
    "prices. This notebookk will:\n",
    "\n",
    "- rank utility of features using mutual infomation\n",
    "- explore relationship of variables with price"
   ]
  },
  {
   "cell_type": "code",
   "execution_count": null,
   "metadata": {},
   "outputs": [],
   "source": [
    "from eda import *\n",
    "import matplotlib.pyplot as plt\n",
    "%matplotlib inline\n",
    "import seaborn as sns\n",
    "sns.set()"
   ]
  },
  {
   "cell_type": "code",
   "execution_count": null,
   "metadata": {},
   "outputs": [],
   "source": [
    "df = pd.read_pickle('car_data.pkl')\n",
    "df.head()"
   ]
  },
  {
   "cell_type": "code",
   "execution_count": null,
   "metadata": {},
   "outputs": [],
   "source": [
    "X = df.copy()\n",
    "y = X.pop('price')"
   ]
  },
  {
   "cell_type": "markdown",
   "metadata": {},
   "source": [
    "## Get mutual infomation scores"
   ]
  },
  {
   "cell_type": "code",
   "execution_count": null,
   "metadata": {},
   "outputs": [],
   "source": [
    "mi_scores = make_mi_scores(X, y)\n",
    "mi_scores[::3]"
   ]
  },
  {
   "cell_type": "markdown",
   "metadata": {},
   "source": [
    "Key variables like manufactured year and mileage look they have a effect of price as expected.\n",
    "By this metric valiables like doors and seats have little to no effect on price."
   ]
  },
  {
   "cell_type": "code",
   "execution_count": null,
   "metadata": {},
   "outputs": [],
   "source": [
    "plot_mi_scores(mi_scores)"
   ]
  },
  {
   "cell_type": "markdown",
   "metadata": {},
   "source": [
    "The price distribution shows that prices range up to £200,000 on the extreme upper end. However morst of the price data is below £60,000 as seen on the right side of the figure below. The data is also right skewed."
   ]
  },
  {
   "cell_type": "code",
   "execution_count": null,
   "metadata": {},
   "outputs": [],
   "source": [
    "plot_price_historgam_subplot(df)"
   ]
  },
  {
   "cell_type": "markdown",
   "metadata": {},
   "source": [
    "Plotting some of the numerical variables against price we can see trends below.\n",
    "1. Car length is ranked 1 for the mutual information scores and as seen in the chart there is a positive correlation between car length and price.\n",
    "2. Price seems to increase with boot space, but more so with the seats down measurement. This is also confirmed by the mutual information scores as the seats down measurement was ranked higher than the seats up measurement.\n",
    "3. Price increases with the wheelbase. There are some incorrect figures as some wheelbase data points are at 0mm which makes no sense.\n",
    "4. Height, manufactured ear and engine power all have strong positive correlations with price. "
   ]
  },
  {
   "cell_type": "code",
   "execution_count": null,
   "metadata": {},
   "outputs": [],
   "source": [
    "plot_eda_subplot1(df)"
   ]
  },
  {
   "cell_type": "code",
   "execution_count": null,
   "metadata": {},
   "outputs": [],
   "source": [
    "df_sample = df.sample(frac=.4, random_state=1)\n",
    "plot_eda_subplot1(df_sample)"
   ]
  },
  {
   "cell_type": "markdown",
   "metadata": {},
   "source": [
    "1. Engine torque, mileage, fuel tank capacity and CO2 emmissions seem to have strong correlations with price and will likely be useful in price prediction.\n",
    "2. The relationship between annual tax and price is unclear. Tax is ranked low on the mutual information scores.\n",
    "3. Price decreases with an increase in number of owners. Number of owners could be closely correlated with mileage."
   ]
  },
  {
   "cell_type": "code",
   "execution_count": null,
   "metadata": {},
   "outputs": [],
   "source": [
    "fig, ax = plt.subplots(2, 3, figsize=[24, 15])\n",
    "\n",
    "# fig 1\n",
    "ax[0,0].scatter(df_sample.engine_torque, df_sample.price, alpha=0.5)\n",
    "ax[0,0].set(ylabel= 'Price (£)', xlabel='Engine Torque (lbs/ft)')\n",
    "\n",
    "# fig 2\n",
    "ax[0,1].scatter(df_sample.mileage, df_sample.price, alpha=0.5)\n",
    "ax[0,1].set(ylabel= 'Price (£)', xlabel='Mileage (miles)')\n",
    "\n",
    "# fig 3\n",
    "ax[0,2].scatter(df_sample.fuel_tank_capacity, df_sample.price, alpha=0.5)\n",
    "ax[0,2].set(ylabel= 'Price (£)', xlabel='Fuel Tank Capacity (L)')\n",
    "\n",
    "# fig 4\n",
    "ax[1,0].scatter(df_sample.co2_emissions, df_sample.price, alpha=0.5)\n",
    "ax[1,0].set(ylabel= 'Price (£)', xlabel='CO2 Emmissions (g/km)')\n",
    "\n",
    "# fig 5\n",
    "ax[1,1].scatter(df_sample.tax, df_sample.price, alpha=0.5)\n",
    "ax[1,1].set(ylabel= 'Price (£)', xlabel='Annual Tax (£)')\n",
    "\n",
    "# fig 6\n",
    "ax[1,2].scatter(df_sample.number_of_owners, df_sample.price, alpha=0.5)\n",
    "ax[1,2].set(ylabel= 'Price (£)', xlabel='Number of Owners')"
   ]
  },
  {
   "cell_type": "markdown",
   "metadata": {},
   "source": [
    "1. Price increases with top speed and engine size.\n",
    "2. Total sellers reviews does not have a clear trend with price.\n",
    "3. Combined, urban and extra urban ratings all seem to have a slight negative correlation with price although it's not very clear. These variables may not be good predictors of price."
   ]
  },
  {
   "cell_type": "code",
   "execution_count": null,
   "metadata": {},
   "outputs": [],
   "source": [
    "fig, ax = plt.subplots(2, 3, figsize=[24, 15])\n",
    "\n",
    "# fig 1\n",
    "ax[0,0].scatter(df_sample.top_speed, df_sample.price, alpha=0.5)\n",
    "ax[0,0].set(ylabel= 'Price (£)', xlabel='Top Speed (mph)')\n",
    "\n",
    "# fig 2\n",
    "ax[0,1].scatter(df_sample.total_reviews, df_sample.price, alpha=0.5)\n",
    "ax[0,1].set(ylabel= 'Price (£)', xlabel='Total Reviews')\n",
    "\n",
    "# fig 3\n",
    "ax[0,2].scatter(df_sample.engine_size, df_sample.price, alpha=0.5)\n",
    "ax[0,2].set(ylabel= 'Price (£)', xlabel='Engine Size (L)')\n",
    "\n",
    "# fig 4\n",
    "ax[1,0].scatter(df_sample.combined, df_sample.price, alpha=0.5)\n",
    "ax[1,0].set(ylabel= 'Price (£)', xlabel='Combined (mpg)')\n",
    "\n",
    "# fig 5\n",
    "ax[1,1].scatter(df_sample.urban, df_sample.price, alpha=0.5)\n",
    "ax[1,1].set(ylabel= 'Price (£)', xlabel='Urban (mpg)')\n",
    "\n",
    "# fig 6\n",
    "ax[1,2].scatter(df_sample.extra_urban, df_sample.price, alpha=0.5)\n",
    "ax[1,2].set(ylabel= 'Price (£)', xlabel='Extra Urban (mpg)')"
   ]
  },
  {
   "cell_type": "markdown",
   "metadata": {},
   "source": [
    "1. Longitude, doors, seats and number of photos do not have a clear correlation with price so will probably be useless for price prediction.\n",
    "2. Seller ratings is positively correlated with price. However not all sellers have ratings as some are private. This can lead a lot of data loss if this variable is used.\n",
    "3. Price increases with number of valves and cylinders."
   ]
  },
  {
   "cell_type": "code",
   "execution_count": null,
   "metadata": {},
   "outputs": [],
   "source": [
    "fig, ax = plt.subplots(2, 3, figsize=[24, 15])\n",
    "\n",
    "# fig 1\n",
    "ax[0,0].scatter(df_sample.valves, df_sample.price, alpha=0.5)\n",
    "ax[0,0].set(ylabel= 'Price (£)', xlabel='Valves')\n",
    "\n",
    "# fig 2\n",
    "ax[0,1].scatter(df_sample.vehicle_location_longitude, df_sample.price, alpha=0.5)\n",
    "ax[0,1].set(ylabel= 'Price (£)', xlabel='Vehicle Location Longitude')\n",
    "\n",
    "# fig 3\n",
    "ax[0,2].scatter(df_sample.cylinders, df_sample.price, alpha=0.5)\n",
    "ax[0,2].set(ylabel= 'Price (£)', xlabel='Cylinders')\n",
    "\n",
    "# fig 4\n",
    "ax[1,0].scatter(df_sample.seller_rating, df_sample.price, alpha=0.5)\n",
    "ax[1,0].set(ylabel= 'Price (£)', xlabel='Seller Rating')\n",
    "\n",
    "# fig 5\n",
    "ax[1,1].scatter(df_sample.number_of_photos, df_sample.price, alpha=0.5)\n",
    "ax[1,1].set(ylabel= 'Price (£)', xlabel='Number of Photos ')\n",
    "\n",
    "# fig 6\n",
    "ax[1,2].scatter(df_sample.doors, df_sample.price, alpha=0.5)\n",
    "ax[1,2].set(ylabel= 'Price (£)', xlabel='Doors')"
   ]
  },
  {
   "cell_type": "code",
   "execution_count": null,
   "metadata": {},
   "outputs": [],
   "source": [
    "fig, ax = plt.subplots(figsize=[8, 5])\n",
    "\n",
    "ax.scatter(df_sample.seats, df_sample.price, alpha=0.1)\n",
    "ax.set(ylabel= 'Price (£)', xlabel='Seats')\n"
   ]
  },
  {
   "cell_type": "markdown",
   "metadata": {},
   "source": [
    "1. Figures 1 and 2 show the top ten makes and models in terms of price. It includes luxury cars such as maseratia and porshe.\n",
    "2. Automatic transmission cars have a higher median price than manuals\n",
    "3. Fuel type seems to have an effect on price. Diesel plugin hybrids have the highest median price.\n",
    "4. Body type does not seem to have much effect on price with the exception of the van. This has a higher median than the other body types."
   ]
  },
  {
   "cell_type": "code",
   "execution_count": null,
   "metadata": {},
   "outputs": [],
   "source": [
    "mean_price_by_make = df.groupby('make')['price'].mean().round(0).dropna().astype('int').sort_values(ascending=False)\n",
    "mean_price_by_model = df.groupby('model')['price'].mean().round(0).dropna().astype('int').sort_values(ascending=False)"
   ]
  },
  {
   "cell_type": "code",
   "execution_count": null,
   "metadata": {},
   "outputs": [],
   "source": [
    "df.fuel_type = df.fuel_type.astype('object').astype('category')\n",
    "df.body_type = df.body_type.astype('object').astype('category')\n",
    "\n",
    "fig, ax = plt.subplots(2, 3, figsize=[24, 15])\n",
    "base_color = sns.color_palette()[0]\n",
    "\n",
    "N = 10\n",
    "ticks = np.arange(N) \n",
    "width = 0.7   \n",
    "\n",
    "# fig 1 \n",
    "ax[0,0].bar(ticks, mean_price_by_make.values[:N], width)\n",
    "ax[0,0].set_xticks(ticks) \n",
    "ax[0,0].set_xticklabels(mean_price_by_make.index[:N], rotation=45)\n",
    "ax[0,0].set(ylabel= 'Mean Price (£)', xlabel='Car Make')\n",
    "\n",
    "# fig 2\n",
    "ax[0,1].bar(ticks, mean_price_by_model.values[:N], width)\n",
    "ax[0,1].set_xticks(ticks) \n",
    "ax[0,1].set_xticklabels(mean_price_by_model.index[:N], rotation=45)\n",
    "ax[0,1].set(ylabel= 'Mean Price (£)', xlabel='Model')\n",
    "\n",
    "# fig 3\n",
    "sns.boxplot(data = df, x = 'transmission', y = 'price', ax=ax[0,2], color=base_color)\n",
    "ax[0,2].set(ylabel= 'Price (£)', xlabel='Transmission')\n",
    "\n",
    "# fig 4\n",
    "sns.boxplot(data = df, x = 'fuel_type', y = 'price', ax=ax[1,0], color=base_color)\n",
    "ax[1,0].tick_params(axis='x', labelrotation=45)\n",
    "ax[1,0].set(ylabel= 'Price (£)', xlabel='Fuel Type')\n",
    "\n",
    "# fig 5\n",
    "sns.boxplot(data = df, x = 'body_type', y = 'price', ax=ax[1,1], color=base_color)\n",
    "ax[1,1].tick_params(axis='x', labelrotation=45)\n",
    "ax[1,1].set(ylabel= 'Price (£)', xlabel='Body Type')\n",
    "\n",
    "fig.tight_layout()\n",
    "fig.delaxes(ax[1,2])"
   ]
  },
  {
   "cell_type": "code",
   "execution_count": null,
   "metadata": {},
   "outputs": [],
   "source": []
  }
 ],
 "metadata": {
  "interpreter": {
   "hash": "55107866eff93953fdbb2b6f0292ad0a58d5c02f1d5c46ccd62bedde6522e08f"
  },
  "kernelspec": {
   "display_name": "Python 3.9.7 64-bit ('autotrader': pyenv)",
   "name": "python3"
  },
  "language_info": {
   "codemirror_mode": {
    "name": "ipython",
    "version": 3
   },
   "file_extension": ".py",
   "mimetype": "text/x-python",
   "name": "python",
   "nbconvert_exporter": "python",
   "pygments_lexer": "ipython3",
   "version": "3.9.7"
  },
  "orig_nbformat": 4
 },
 "nbformat": 4,
 "nbformat_minor": 2
}
