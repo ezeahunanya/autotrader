{
 "cells": [
  {
   "cell_type": "markdown",
   "source": [
    "# Data cleaning"
   ],
   "metadata": {
    "tags": []
   }
  },
  {
   "cell_type": "markdown",
   "source": [
    "This notebook aims to outline the initial data preparation before building a price prediction model.\n",
    "The data seen in this notebook was scraped from the autotrader website. This notebook will do the following:\n",
    "\n",
    "- [Load the vehicle features and sellers tables from the database](#read_data)\n",
    "- [Assess dataset](#assess_data)\n",
    "- [Outline the cleaning process prior to EDA](#clean_data)\n",
    "- [Output a cleaner dataset for EDA](#pickle_data)"
   ],
   "metadata": {}
  },
  {
   "cell_type": "code",
   "execution_count": 87,
   "source": [
    "import pandas as pd\n",
    "from data_cleaning import *\n",
    "from sklearn.linear_model import LinearRegression\n"
   ],
   "outputs": [],
   "metadata": {}
  },
  {
   "cell_type": "markdown",
   "source": [
    "## Read data tables into pandas <a id='read_data'></a>\n",
    "\n",
    "Connect to database and join vehicle features with sellers infomation. "
   ],
   "metadata": {
    "tags": []
   }
  },
  {
   "cell_type": "code",
   "execution_count": 2,
   "source": [
    "full_df = get_data_from_database()\n",
    "full_df.head(10)"
   ],
   "outputs": [
    {
     "output_type": "execute_result",
     "data": {
      "text/html": [
       "<div>\n",
       "<style scoped>\n",
       "    .dataframe tbody tr th:only-of-type {\n",
       "        vertical-align: middle;\n",
       "    }\n",
       "\n",
       "    .dataframe tbody tr th {\n",
       "        vertical-align: top;\n",
       "    }\n",
       "\n",
       "    .dataframe thead th {\n",
       "        text-align: right;\n",
       "    }\n",
       "</style>\n",
       "<table border=\"1\" class=\"dataframe\">\n",
       "  <thead>\n",
       "    <tr style=\"text-align: right;\">\n",
       "      <th></th>\n",
       "      <th>advert_id</th>\n",
       "      <th>date_scraped</th>\n",
       "      <th>time_scraped</th>\n",
       "      <th>make</th>\n",
       "      <th>model</th>\n",
       "      <th>trim</th>\n",
       "      <th>manufactured_year</th>\n",
       "      <th>manufactured_year_identifier</th>\n",
       "      <th>body_type</th>\n",
       "      <th>mileage</th>\n",
       "      <th>...</th>\n",
       "      <th>total_reviews</th>\n",
       "      <th>region</th>\n",
       "      <th>county</th>\n",
       "      <th>town</th>\n",
       "      <th>country</th>\n",
       "      <th>seller_postcode</th>\n",
       "      <th>seller_address_one</th>\n",
       "      <th>seller_address_two</th>\n",
       "      <th>dealer_website</th>\n",
       "      <th>primary_contact_number</th>\n",
       "    </tr>\n",
       "  </thead>\n",
       "  <tbody>\n",
       "    <tr>\n",
       "      <th>0</th>\n",
       "      <td>202107165101873</td>\n",
       "      <td>2021-08-22</td>\n",
       "      <td>0 days 00:55:25</td>\n",
       "      <td>DS AUTOMOBILES</td>\n",
       "      <td>DS 3</td>\n",
       "      <td>Prestige</td>\n",
       "      <td>2018.0</td>\n",
       "      <td>18</td>\n",
       "      <td>Hatchback</td>\n",
       "      <td>31537.0</td>\n",
       "      <td>...</td>\n",
       "      <td>13067.0</td>\n",
       "      <td>SOUTH EAST</td>\n",
       "      <td>KENT</td>\n",
       "      <td>ADDINGTON</td>\n",
       "      <td>GB</td>\n",
       "      <td>ME19 5PL</td>\n",
       "      <td>A20 London Road</td>\n",
       "      <td>None</td>\n",
       "      <td>https://www.bigmotoringworld.co.uk/autotraderv...</td>\n",
       "      <td>01634215708</td>\n",
       "    </tr>\n",
       "    <tr>\n",
       "      <th>1</th>\n",
       "      <td>202009113616600</td>\n",
       "      <td>2021-08-22</td>\n",
       "      <td>0 days 00:55:29</td>\n",
       "      <td>Vauxhall</td>\n",
       "      <td>Astra</td>\n",
       "      <td>SXi</td>\n",
       "      <td>2007.0</td>\n",
       "      <td>07</td>\n",
       "      <td>Hatchback</td>\n",
       "      <td>70000.0</td>\n",
       "      <td>...</td>\n",
       "      <td>18.0</td>\n",
       "      <td>LONDON</td>\n",
       "      <td>MIDDLESEX</td>\n",
       "      <td>HOUNSLOW</td>\n",
       "      <td>GB</td>\n",
       "      <td>TW4 6JQ</td>\n",
       "      <td>VISTA BUSINESS CENTRE, SALISBURY ROAD</td>\n",
       "      <td>None</td>\n",
       "      <td>https://www.motorpedia.uk/</td>\n",
       "      <td>02080337311</td>\n",
       "    </tr>\n",
       "    <tr>\n",
       "      <th>2</th>\n",
       "      <td>202107305627204</td>\n",
       "      <td>2021-08-22</td>\n",
       "      <td>0 days 00:55:29</td>\n",
       "      <td>Volkswagen</td>\n",
       "      <td>Polo</td>\n",
       "      <td>Moda</td>\n",
       "      <td>2010.0</td>\n",
       "      <td>60</td>\n",
       "      <td>Hatchback</td>\n",
       "      <td>89000.0</td>\n",
       "      <td>...</td>\n",
       "      <td>125.0</td>\n",
       "      <td>LONDON</td>\n",
       "      <td>HERTFORDSHIRE</td>\n",
       "      <td>BARNET</td>\n",
       "      <td>GB</td>\n",
       "      <td>EN5 4RY</td>\n",
       "      <td>BENTLEY HEATH LANE</td>\n",
       "      <td>None</td>\n",
       "      <td>http://www.mynextcar.co.uk</td>\n",
       "      <td>02081152043</td>\n",
       "    </tr>\n",
       "    <tr>\n",
       "      <th>3</th>\n",
       "      <td>202108206481776</td>\n",
       "      <td>2021-08-22</td>\n",
       "      <td>0 days 00:55:30</td>\n",
       "      <td>Vauxhall</td>\n",
       "      <td>Astra</td>\n",
       "      <td>SXi</td>\n",
       "      <td>2008.0</td>\n",
       "      <td>08</td>\n",
       "      <td>Hatchback</td>\n",
       "      <td>117000.0</td>\n",
       "      <td>...</td>\n",
       "      <td>7.0</td>\n",
       "      <td>LONDON</td>\n",
       "      <td>ESSEX</td>\n",
       "      <td>ILFORD</td>\n",
       "      <td>GB</td>\n",
       "      <td>IG3 8RW</td>\n",
       "      <td>777-779 High Road</td>\n",
       "      <td>Seven Kings</td>\n",
       "      <td>https://dmsgateway.autotrader.co.uk/api/advert...</td>\n",
       "      <td>07441907724</td>\n",
       "    </tr>\n",
       "    <tr>\n",
       "      <th>4</th>\n",
       "      <td>202108206471965</td>\n",
       "      <td>2021-08-22</td>\n",
       "      <td>0 days 00:55:30</td>\n",
       "      <td>Mazda</td>\n",
       "      <td>Mazda3</td>\n",
       "      <td>Sport</td>\n",
       "      <td>2007.0</td>\n",
       "      <td>07</td>\n",
       "      <td>Hatchback</td>\n",
       "      <td>93500.0</td>\n",
       "      <td>...</td>\n",
       "      <td>18.0</td>\n",
       "      <td>SOUTH WEST</td>\n",
       "      <td>WILTSHIRE</td>\n",
       "      <td>SWINDON</td>\n",
       "      <td>GB</td>\n",
       "      <td>SN1 2PG</td>\n",
       "      <td>UNIT 10-11, ISIS TRADING ESTATE</td>\n",
       "      <td>None</td>\n",
       "      <td>https://dmsgateway.autotrader.co.uk/api/advert...</td>\n",
       "      <td>07537125171</td>\n",
       "    </tr>\n",
       "    <tr>\n",
       "      <th>5</th>\n",
       "      <td>202108136200337</td>\n",
       "      <td>2021-08-22</td>\n",
       "      <td>0 days 00:55:30</td>\n",
       "      <td>Vauxhall</td>\n",
       "      <td>Astra</td>\n",
       "      <td>Club</td>\n",
       "      <td>2004.0</td>\n",
       "      <td>54</td>\n",
       "      <td>Hatchback</td>\n",
       "      <td>73888.0</td>\n",
       "      <td>...</td>\n",
       "      <td>10.0</td>\n",
       "      <td>SOUTH EAST</td>\n",
       "      <td>SURREY</td>\n",
       "      <td>WORCESTER PARK</td>\n",
       "      <td>None</td>\n",
       "      <td>None</td>\n",
       "      <td>None</td>\n",
       "      <td>None</td>\n",
       "      <td>None</td>\n",
       "      <td>07971223786</td>\n",
       "    </tr>\n",
       "    <tr>\n",
       "      <th>6</th>\n",
       "      <td>202108045818203</td>\n",
       "      <td>2021-08-22</td>\n",
       "      <td>0 days 00:55:30</td>\n",
       "      <td>Volvo</td>\n",
       "      <td>S40</td>\n",
       "      <td>SE</td>\n",
       "      <td>2005.0</td>\n",
       "      <td>55</td>\n",
       "      <td>Saloon</td>\n",
       "      <td>160000.0</td>\n",
       "      <td>...</td>\n",
       "      <td>15.0</td>\n",
       "      <td>LONDON</td>\n",
       "      <td>MIDDLESEX</td>\n",
       "      <td>LONDON</td>\n",
       "      <td>GB</td>\n",
       "      <td>None</td>\n",
       "      <td>None</td>\n",
       "      <td>None</td>\n",
       "      <td>https://dmsgateway.autotrader.co.uk/api/advert...</td>\n",
       "      <td>07537165960</td>\n",
       "    </tr>\n",
       "    <tr>\n",
       "      <th>7</th>\n",
       "      <td>202108206446218</td>\n",
       "      <td>2021-08-22</td>\n",
       "      <td>0 days 00:55:31</td>\n",
       "      <td>Ford</td>\n",
       "      <td>Fiesta</td>\n",
       "      <td>Ghia</td>\n",
       "      <td>2006.0</td>\n",
       "      <td>06</td>\n",
       "      <td>Hatchback</td>\n",
       "      <td>63000.0</td>\n",
       "      <td>...</td>\n",
       "      <td>13.0</td>\n",
       "      <td>SOUTH EAST</td>\n",
       "      <td>EAST SUSSEX</td>\n",
       "      <td>UCKFIELD</td>\n",
       "      <td>None</td>\n",
       "      <td>None</td>\n",
       "      <td>None</td>\n",
       "      <td>None</td>\n",
       "      <td>None</td>\n",
       "      <td>07971243842</td>\n",
       "    </tr>\n",
       "    <tr>\n",
       "      <th>8</th>\n",
       "      <td>202108206442132</td>\n",
       "      <td>2021-08-22</td>\n",
       "      <td>0 days 00:55:31</td>\n",
       "      <td>MINI</td>\n",
       "      <td>Hatch</td>\n",
       "      <td>Cooper</td>\n",
       "      <td>2004.0</td>\n",
       "      <td>04</td>\n",
       "      <td>Hatchback</td>\n",
       "      <td>63977.0</td>\n",
       "      <td>...</td>\n",
       "      <td>37.0</td>\n",
       "      <td>LONDON</td>\n",
       "      <td>SURREY</td>\n",
       "      <td>WANDSWORTH</td>\n",
       "      <td>GB</td>\n",
       "      <td>SW18 4QA</td>\n",
       "      <td>152-156, Penwith Road</td>\n",
       "      <td>None</td>\n",
       "      <td>None</td>\n",
       "      <td>07537165675</td>\n",
       "    </tr>\n",
       "    <tr>\n",
       "      <th>9</th>\n",
       "      <td>202105243041206</td>\n",
       "      <td>2021-08-22</td>\n",
       "      <td>0 days 00:55:31</td>\n",
       "      <td>Vauxhall</td>\n",
       "      <td>Corsa</td>\n",
       "      <td>SE</td>\n",
       "      <td>2009.0</td>\n",
       "      <td>09</td>\n",
       "      <td>Hatchback</td>\n",
       "      <td>100843.0</td>\n",
       "      <td>...</td>\n",
       "      <td>128.0</td>\n",
       "      <td>NORTH WEST</td>\n",
       "      <td>CHESHIRE</td>\n",
       "      <td>NORTHWICH</td>\n",
       "      <td>GB</td>\n",
       "      <td>CW8 1BE</td>\n",
       "      <td>Unit 5 RIVERSIDE TRADING ESTATE</td>\n",
       "      <td>NAVIGATION ROAD</td>\n",
       "      <td>https://dmsgateway.autotrader.co.uk/api/advert...</td>\n",
       "      <td>07537164943</td>\n",
       "    </tr>\n",
       "  </tbody>\n",
       "</table>\n",
       "<p>10 rows × 77 columns</p>\n",
       "</div>"
      ],
      "text/plain": [
       "         advert_id date_scraped    time_scraped            make   model  \\\n",
       "0  202107165101873   2021-08-22 0 days 00:55:25  DS AUTOMOBILES    DS 3   \n",
       "1  202009113616600   2021-08-22 0 days 00:55:29        Vauxhall   Astra   \n",
       "2  202107305627204   2021-08-22 0 days 00:55:29      Volkswagen    Polo   \n",
       "3  202108206481776   2021-08-22 0 days 00:55:30        Vauxhall   Astra   \n",
       "4  202108206471965   2021-08-22 0 days 00:55:30           Mazda  Mazda3   \n",
       "5  202108136200337   2021-08-22 0 days 00:55:30        Vauxhall   Astra   \n",
       "6  202108045818203   2021-08-22 0 days 00:55:30           Volvo     S40   \n",
       "7  202108206446218   2021-08-22 0 days 00:55:31            Ford  Fiesta   \n",
       "8  202108206442132   2021-08-22 0 days 00:55:31            MINI   Hatch   \n",
       "9  202105243041206   2021-08-22 0 days 00:55:31        Vauxhall   Corsa   \n",
       "\n",
       "       trim  manufactured_year manufactured_year_identifier  body_type  \\\n",
       "0  Prestige             2018.0                           18  Hatchback   \n",
       "1       SXi             2007.0                           07  Hatchback   \n",
       "2      Moda             2010.0                           60  Hatchback   \n",
       "3       SXi             2008.0                           08  Hatchback   \n",
       "4     Sport             2007.0                           07  Hatchback   \n",
       "5      Club             2004.0                           54  Hatchback   \n",
       "6        SE             2005.0                           55     Saloon   \n",
       "7      Ghia             2006.0                           06  Hatchback   \n",
       "8    Cooper             2004.0                           04  Hatchback   \n",
       "9        SE             2009.0                           09  Hatchback   \n",
       "\n",
       "    mileage  ... total_reviews      region         county            town  \\\n",
       "0   31537.0  ...       13067.0  SOUTH EAST           KENT       ADDINGTON   \n",
       "1   70000.0  ...          18.0      LONDON      MIDDLESEX        HOUNSLOW   \n",
       "2   89000.0  ...         125.0      LONDON  HERTFORDSHIRE          BARNET   \n",
       "3  117000.0  ...           7.0      LONDON          ESSEX          ILFORD   \n",
       "4   93500.0  ...          18.0  SOUTH WEST      WILTSHIRE         SWINDON   \n",
       "5   73888.0  ...          10.0  SOUTH EAST         SURREY  WORCESTER PARK   \n",
       "6  160000.0  ...          15.0      LONDON      MIDDLESEX          LONDON   \n",
       "7   63000.0  ...          13.0  SOUTH EAST    EAST SUSSEX        UCKFIELD   \n",
       "8   63977.0  ...          37.0      LONDON         SURREY      WANDSWORTH   \n",
       "9  100843.0  ...         128.0  NORTH WEST       CHESHIRE       NORTHWICH   \n",
       "\n",
       "   country  seller_postcode                     seller_address_one  \\\n",
       "0       GB         ME19 5PL                        A20 London Road   \n",
       "1       GB          TW4 6JQ  VISTA BUSINESS CENTRE, SALISBURY ROAD   \n",
       "2       GB          EN5 4RY                     BENTLEY HEATH LANE   \n",
       "3       GB          IG3 8RW                      777-779 High Road   \n",
       "4       GB          SN1 2PG        UNIT 10-11, ISIS TRADING ESTATE   \n",
       "5     None             None                                   None   \n",
       "6       GB             None                                   None   \n",
       "7     None             None                                   None   \n",
       "8       GB         SW18 4QA                  152-156, Penwith Road   \n",
       "9       GB          CW8 1BE        Unit 5 RIVERSIDE TRADING ESTATE   \n",
       "\n",
       "  seller_address_two                                     dealer_website  \\\n",
       "0               None  https://www.bigmotoringworld.co.uk/autotraderv...   \n",
       "1               None                         https://www.motorpedia.uk/   \n",
       "2               None                         http://www.mynextcar.co.uk   \n",
       "3        Seven Kings  https://dmsgateway.autotrader.co.uk/api/advert...   \n",
       "4               None  https://dmsgateway.autotrader.co.uk/api/advert...   \n",
       "5               None                                               None   \n",
       "6               None  https://dmsgateway.autotrader.co.uk/api/advert...   \n",
       "7               None                                               None   \n",
       "8               None                                               None   \n",
       "9    NAVIGATION ROAD  https://dmsgateway.autotrader.co.uk/api/advert...   \n",
       "\n",
       "  primary_contact_number  \n",
       "0            01634215708  \n",
       "1            02080337311  \n",
       "2            02081152043  \n",
       "3            07441907724  \n",
       "4            07537125171  \n",
       "5            07971223786  \n",
       "6            07537165960  \n",
       "7            07971243842  \n",
       "8            07537165675  \n",
       "9            07537164943  \n",
       "\n",
       "[10 rows x 77 columns]"
      ]
     },
     "metadata": {},
     "execution_count": 2
    }
   ],
   "metadata": {}
  },
  {
   "cell_type": "markdown",
   "source": [
    "## Assess data <a id='assess_data'></a>"
   ],
   "metadata": {
    "jp-MarkdownHeadingCollapsed": true,
    "tags": []
   }
  },
  {
   "cell_type": "code",
   "execution_count": 3,
   "source": [
    "full_df.shape"
   ],
   "outputs": [
    {
     "output_type": "execute_result",
     "data": {
      "text/plain": [
       "(27808, 77)"
      ]
     },
     "metadata": {},
     "execution_count": 3
    }
   ],
   "metadata": {}
  },
  {
   "cell_type": "markdown",
   "source": [
    "Some of the columns contain nulls and some of the data types are incorrect."
   ],
   "metadata": {}
  },
  {
   "cell_type": "code",
   "execution_count": 4,
   "source": [
    "full_df.info()"
   ],
   "outputs": [
    {
     "output_type": "stream",
     "name": "stdout",
     "text": [
      "<class 'pandas.core.frame.DataFrame'>\n",
      "RangeIndex: 27808 entries, 0 to 27807\n",
      "Data columns (total 77 columns):\n",
      " #   Column                        Non-Null Count  Dtype          \n",
      "---  ------                        --------------  -----          \n",
      " 0   advert_id                     27808 non-null  int64          \n",
      " 1   date_scraped                  27808 non-null  object         \n",
      " 2   time_scraped                  27808 non-null  timedelta64[ns]\n",
      " 3   make                          27808 non-null  object         \n",
      " 4   model                         27808 non-null  object         \n",
      " 5   trim                          26792 non-null  object         \n",
      " 6   manufactured_year             27787 non-null  float64        \n",
      " 7   manufactured_year_identifier  27508 non-null  object         \n",
      " 8   body_type                     27790 non-null  object         \n",
      " 9   mileage                       27761 non-null  float64        \n",
      " 10  engine_size                   27565 non-null  object         \n",
      " 11  transmission                  27807 non-null  object         \n",
      " 12  fuel_type                     27807 non-null  object         \n",
      " 13  doors                         27769 non-null  float64        \n",
      " 14  seats                         27272 non-null  float64        \n",
      " 15  number_of_owners              15056 non-null  float64        \n",
      " 16  emission_scheme               18610 non-null  object         \n",
      " 17  vehicle_location_postcode     22914 non-null  object         \n",
      " 18  vehicle_location_latitude     22914 non-null  object         \n",
      " 19  vehicle_location_longitude    22914 non-null  object         \n",
      " 20  vehicle_registration_mark     27639 non-null  object         \n",
      " 21  derivative_id                 27807 non-null  object         \n",
      " 22  car_condition                 27808 non-null  object         \n",
      " 23  imported                      27808 non-null  int64          \n",
      " 24  average_mileage               26678 non-null  float64        \n",
      " 25  mileage_deviation             26678 non-null  float64        \n",
      " 26  mileage_deviation_type        26678 non-null  object         \n",
      " 27  ad_description                27808 non-null  object         \n",
      " 28  price                         27808 non-null  int64          \n",
      " 29  price_excluding_fees          27808 non-null  int64          \n",
      " 30  no_admin_fees                 27808 non-null  int64          \n",
      " 31  price_deviation               17964 non-null  float64        \n",
      " 32  price_deviation_type          17964 non-null  object         \n",
      " 33  price_rating                  17964 non-null  object         \n",
      " 34  price_rating_label            17964 non-null  object         \n",
      " 35  seller_id                     23941 non-null  float64        \n",
      " 36  page_url                      26716 non-null  object         \n",
      " 37  number_of_photos              27808 non-null  int64          \n",
      " 38  co2_emission                  27329 non-null  float64        \n",
      " 39  tax                           26254 non-null  float64        \n",
      " 40  zero_to_sixty                 19623 non-null  object         \n",
      " 41  zero_to_sixty_two             9394 non-null   object         \n",
      " 42  top_speed                     26653 non-null  float64        \n",
      " 43  cylinders                     27801 non-null  float64        \n",
      " 44  valves                        27801 non-null  float64        \n",
      " 45  engine_power                  27805 non-null  float64        \n",
      " 46  engine_torque                 26321 non-null  object         \n",
      " 47  height                        27055 non-null  float64        \n",
      " 48  length                        27089 non-null  float64        \n",
      " 49  wheelbase                     27036 non-null  float64        \n",
      " 50  width                         27007 non-null  float64        \n",
      " 51  fuel_tank_capacity            25648 non-null  object         \n",
      " 52  gross_vehicle_weight          9641 non-null   float64        \n",
      " 53  boot_space_seats_up           23318 non-null  float64        \n",
      " 54  boot_space_seats_down         18017 non-null  float64        \n",
      " 55  max_loading_weight            4791 non-null   float64        \n",
      " 56  minimum_kerb_weight           22139 non-null  float64        \n",
      " 57  urban                         20655 non-null  object         \n",
      " 58  extra_urban                   20669 non-null  object         \n",
      " 59  combined                      26205 non-null  object         \n",
      " 60  co2_emissions                 27336 non-null  float64        \n",
      " 61  insurance_group               26528 non-null  object         \n",
      " 62  seller_name                   23940 non-null  object         \n",
      " 63  is_dealer_trusted             23941 non-null  float64        \n",
      " 64  seller_longlat                23256 non-null  object         \n",
      " 65  seller_segment                23469 non-null  object         \n",
      " 66  seller_rating                 21609 non-null  object         \n",
      " 67  total_reviews                 21609 non-null  float64        \n",
      " 68  region                        23823 non-null  object         \n",
      " 69  county                        23651 non-null  object         \n",
      " 70  town                          23941 non-null  object         \n",
      " 71  country                       23469 non-null  object         \n",
      " 72  seller_postcode               23256 non-null  object         \n",
      " 73  seller_address_one            23256 non-null  object         \n",
      " 74  seller_address_two            10737 non-null  object         \n",
      " 75  dealer_website                21867 non-null  object         \n",
      " 76  primary_contact_number        23829 non-null  object         \n",
      "dtypes: float64(27), int64(6), object(43), timedelta64[ns](1)\n",
      "memory usage: 16.3+ MB\n"
     ]
    }
   ],
   "metadata": {}
  },
  {
   "cell_type": "markdown",
   "source": [
    "Percentage of missing values in each column in descending order."
   ],
   "metadata": {}
  },
  {
   "cell_type": "code",
   "execution_count": 5,
   "source": [
    "get_percentage_nulls(full_df)"
   ],
   "outputs": [
    {
     "output_type": "execute_result",
     "data": {
      "text/plain": [
       "max_loading_weight      82.771145\n",
       "zero_to_sixty_two       66.218354\n",
       "gross_vehicle_weight    65.330121\n",
       "seller_address_two      61.388809\n",
       "number_of_owners        45.857307\n",
       "                          ...    \n",
       "date_scraped             0.000000\n",
       "model                    0.000000\n",
       "make                     0.000000\n",
       "time_scraped             0.000000\n",
       "advert_id                0.000000\n",
       "Length: 77, dtype: float64"
      ]
     },
     "metadata": {},
     "execution_count": 5
    }
   ],
   "metadata": {}
  },
  {
   "cell_type": "markdown",
   "source": [
    "Checking duplicate entries"
   ],
   "metadata": {}
  },
  {
   "cell_type": "code",
   "execution_count": 6,
   "source": [
    "full_df['advert_id'].duplicated().sum()"
   ],
   "outputs": [
    {
     "output_type": "execute_result",
     "data": {
      "text/plain": [
       "0"
      ]
     },
     "metadata": {},
     "execution_count": 6
    }
   ],
   "metadata": {}
  },
  {
   "cell_type": "markdown",
   "source": [
    "## Clean Data <a id='explore_data'></a>"
   ],
   "metadata": {
    "jp-MarkdownHeadingCollapsed": true,
    "tags": []
   }
  },
  {
   "cell_type": "markdown",
   "source": [
    "The columns which will not be used for the price prediction model will be dropped.\n",
    "The following columns will be dropped as they uniquely identify each car ad and will lead to overfitting in the model:\n",
    "- advert_id\n",
    "- derivative_id\n",
    "- vehicle_registration_mark \n",
    "- seller_id (not uniquely but still identifies car ads)\n",
    "- seller_name (not uniquely but still identifies car ads)\n",
    "\n",
    "The following columns are not available at the time predictions are made and can lead to data leaks:\n",
    "- price_deviation\n",
    "- price_deviation_type\n",
    "- price_excluding_fees\n",
    "- no_admin_fees\n",
    "- price_rating\n",
    "- price_rating_label\n",
    "\n",
    "The following columns have a lot of data points missing:\n",
    "- max_loading_weight\n",
    "- gross_vehicle_weight\n",
    "- zero_to_sixty_two\n",
    "- zero_to_sixty\n",
    "- minimum_kerb_weight\n",
    "\n",
    "The following columns are not useful as they only have one category:\n",
    "- car_condition (all 'used')\n",
    "- is_dealer_trusted (all False)\n",
    "- country (all 'GB')\n",
    "\n",
    "The following columns will probably not be a good predictor of price:\n",
    "- ad_description\n",
    "- page_url\n",
    "- primary_contact_number\n",
    "- dealer_website\n",
    "- date_scraped\n",
    "- time_scraped\n",
    "\n",
    "The infomation in the following columns is already represented by another column:\n",
    "- manufactured_year_identifier (year)\n",
    "- seller_address_one (lat and long)\n",
    "- seller_address_two (lat and long)\n",
    "- vehicle_location_postcode (lat and long)\n",
    "- seller_postcode (lat and long)\n",
    "\n",
    "The following columns contain inaccurate data:\n",
    "- average_mileage (average based on full dataset on website but only a fraction was scraped)\n",
    "- mileage_deviation\n",
    "- mileage_deviation_type \n"
   ],
   "metadata": {}
  },
  {
   "cell_type": "code",
   "execution_count": 7,
   "source": [
    "df = drop_columns(full_df)\n",
    "df.columns"
   ],
   "outputs": [
    {
     "output_type": "execute_result",
     "data": {
      "text/plain": [
       "Index(['make', 'model', 'trim', 'manufactured_year', 'body_type', 'mileage',\n",
       "       'engine_size', 'transmission', 'fuel_type', 'doors', 'seats',\n",
       "       'number_of_owners', 'emission_scheme', 'vehicle_location_latitude',\n",
       "       'vehicle_location_longitude', 'imported', 'price', 'number_of_photos',\n",
       "       'co2_emission', 'tax', 'top_speed', 'cylinders', 'valves',\n",
       "       'engine_power', 'engine_torque', 'height', 'length', 'wheelbase',\n",
       "       'width', 'fuel_tank_capacity', 'boot_space_seats_up',\n",
       "       'boot_space_seats_down', 'urban', 'extra_urban', 'combined',\n",
       "       'co2_emissions', 'insurance_group', 'seller_longlat', 'seller_segment',\n",
       "       'seller_rating', 'total_reviews', 'region', 'county', 'town'],\n",
       "      dtype='object')"
      ]
     },
     "metadata": {},
     "execution_count": 7
    }
   ],
   "metadata": {}
  },
  {
   "cell_type": "markdown",
   "source": [
    "### Cleaning issues\n",
    "\n",
    "- vehicle_location_longitude & vehicle_location_latitude contains the same data as seller_longlat but has more missing values\n",
    "- there are two columns with CO2 emissions\n",
    "- manufactured_year, doors, seats, engine_power, wheelbase, height, legnth, valves, cylinders, top_speed, tax, CO2 emissions are all floats\n",
    "- make, model and trim are interlinked so could put into one column\n",
    "- the emission_scheme column only has one 'ULEZ' category (convert to boolean column)"
   ],
   "metadata": {}
  },
  {
   "cell_type": "markdown",
   "source": [
    "#### Combine latitude and longitudes into one column."
   ],
   "metadata": {}
  },
  {
   "cell_type": "code",
   "execution_count": 8,
   "source": [
    "df[(df.vehicle_location_longitude.isnull()) & (~df.seller_longlat.isnull())][['vehicle_location_longitude', 'vehicle_location_latitude', 'seller_longlat']]"
   ],
   "outputs": [
    {
     "output_type": "execute_result",
     "data": {
      "text/html": [
       "<div>\n",
       "<style scoped>\n",
       "    .dataframe tbody tr th:only-of-type {\n",
       "        vertical-align: middle;\n",
       "    }\n",
       "\n",
       "    .dataframe tbody tr th {\n",
       "        vertical-align: top;\n",
       "    }\n",
       "\n",
       "    .dataframe thead th {\n",
       "        text-align: right;\n",
       "    }\n",
       "</style>\n",
       "<table border=\"1\" class=\"dataframe\">\n",
       "  <thead>\n",
       "    <tr style=\"text-align: right;\">\n",
       "      <th></th>\n",
       "      <th>vehicle_location_longitude</th>\n",
       "      <th>vehicle_location_latitude</th>\n",
       "      <th>seller_longlat</th>\n",
       "    </tr>\n",
       "  </thead>\n",
       "  <tbody>\n",
       "    <tr>\n",
       "      <th>841</th>\n",
       "      <td>None</td>\n",
       "      <td>None</td>\n",
       "      <td>51.631083,-0.761748</td>\n",
       "    </tr>\n",
       "    <tr>\n",
       "      <th>1204</th>\n",
       "      <td>None</td>\n",
       "      <td>None</td>\n",
       "      <td>51.5283026,-0.1302148</td>\n",
       "    </tr>\n",
       "    <tr>\n",
       "      <th>1209</th>\n",
       "      <td>None</td>\n",
       "      <td>None</td>\n",
       "      <td>53.7201316,-0.4299832</td>\n",
       "    </tr>\n",
       "    <tr>\n",
       "      <th>1225</th>\n",
       "      <td>None</td>\n",
       "      <td>None</td>\n",
       "      <td>52.9229051,-1.4600297</td>\n",
       "    </tr>\n",
       "    <tr>\n",
       "      <th>1358</th>\n",
       "      <td>None</td>\n",
       "      <td>None</td>\n",
       "      <td>51.5283026,-0.1302148</td>\n",
       "    </tr>\n",
       "    <tr>\n",
       "      <th>...</th>\n",
       "      <td>...</td>\n",
       "      <td>...</td>\n",
       "      <td>...</td>\n",
       "    </tr>\n",
       "    <tr>\n",
       "      <th>27097</th>\n",
       "      <td>None</td>\n",
       "      <td>None</td>\n",
       "      <td>51.5283026,-0.1302148</td>\n",
       "    </tr>\n",
       "    <tr>\n",
       "      <th>27101</th>\n",
       "      <td>None</td>\n",
       "      <td>None</td>\n",
       "      <td>51.5283026,-0.1302148</td>\n",
       "    </tr>\n",
       "    <tr>\n",
       "      <th>27193</th>\n",
       "      <td>None</td>\n",
       "      <td>None</td>\n",
       "      <td>51.5283026,-0.1302148</td>\n",
       "    </tr>\n",
       "    <tr>\n",
       "      <th>27430</th>\n",
       "      <td>None</td>\n",
       "      <td>None</td>\n",
       "      <td>51.5283026,-0.1302148</td>\n",
       "    </tr>\n",
       "    <tr>\n",
       "      <th>27603</th>\n",
       "      <td>None</td>\n",
       "      <td>None</td>\n",
       "      <td>51.5283026,-0.1302148</td>\n",
       "    </tr>\n",
       "  </tbody>\n",
       "</table>\n",
       "<p>345 rows × 3 columns</p>\n",
       "</div>"
      ],
      "text/plain": [
       "      vehicle_location_longitude vehicle_location_latitude  \\\n",
       "841                         None                      None   \n",
       "1204                        None                      None   \n",
       "1209                        None                      None   \n",
       "1225                        None                      None   \n",
       "1358                        None                      None   \n",
       "...                          ...                       ...   \n",
       "27097                       None                      None   \n",
       "27101                       None                      None   \n",
       "27193                       None                      None   \n",
       "27430                       None                      None   \n",
       "27603                       None                      None   \n",
       "\n",
       "              seller_longlat  \n",
       "841      51.631083,-0.761748  \n",
       "1204   51.5283026,-0.1302148  \n",
       "1209   53.7201316,-0.4299832  \n",
       "1225   52.9229051,-1.4600297  \n",
       "1358   51.5283026,-0.1302148  \n",
       "...                      ...  \n",
       "27097  51.5283026,-0.1302148  \n",
       "27101  51.5283026,-0.1302148  \n",
       "27193  51.5283026,-0.1302148  \n",
       "27430  51.5283026,-0.1302148  \n",
       "27603  51.5283026,-0.1302148  \n",
       "\n",
       "[345 rows x 3 columns]"
      ]
     },
     "metadata": {},
     "execution_count": 8
    }
   ],
   "metadata": {}
  },
  {
   "cell_type": "code",
   "execution_count": 9,
   "source": [
    "df.count()[['vehicle_location_longitude', 'vehicle_location_latitude', 'seller_longlat']]"
   ],
   "outputs": [
    {
     "output_type": "execute_result",
     "data": {
      "text/plain": [
       "vehicle_location_longitude    22914\n",
       "vehicle_location_latitude     22914\n",
       "seller_longlat                23256\n",
       "dtype: int64"
      ]
     },
     "metadata": {},
     "execution_count": 9
    }
   ],
   "metadata": {}
  },
  {
   "cell_type": "code",
   "execution_count": 10,
   "source": [
    "df2 = combine_latitudes_and_longitudes(df)"
   ],
   "outputs": [],
   "metadata": {}
  },
  {
   "cell_type": "code",
   "execution_count": 11,
   "source": [
    "df2.count()[['vehicle_location_longitude', 'vehicle_location_latitude']]"
   ],
   "outputs": [
    {
     "output_type": "execute_result",
     "data": {
      "text/plain": [
       "vehicle_location_longitude    23259\n",
       "vehicle_location_latitude     23259\n",
       "dtype: int64"
      ]
     },
     "metadata": {},
     "execution_count": 11
    }
   ],
   "metadata": {}
  },
  {
   "cell_type": "markdown",
   "source": [
    "#### Combine CO2 emissions into one column."
   ],
   "metadata": {}
  },
  {
   "cell_type": "code",
   "execution_count": 12,
   "source": [
    "df2[(df2.co2_emissions.isnull()) & (~df2.co2_emission.isnull())][['co2_emission', 'co2_emissions']]"
   ],
   "outputs": [
    {
     "output_type": "execute_result",
     "data": {
      "text/html": [
       "<div>\n",
       "<style scoped>\n",
       "    .dataframe tbody tr th:only-of-type {\n",
       "        vertical-align: middle;\n",
       "    }\n",
       "\n",
       "    .dataframe tbody tr th {\n",
       "        vertical-align: top;\n",
       "    }\n",
       "\n",
       "    .dataframe thead th {\n",
       "        text-align: right;\n",
       "    }\n",
       "</style>\n",
       "<table border=\"1\" class=\"dataframe\">\n",
       "  <thead>\n",
       "    <tr style=\"text-align: right;\">\n",
       "      <th></th>\n",
       "      <th>co2_emission</th>\n",
       "      <th>co2_emissions</th>\n",
       "    </tr>\n",
       "  </thead>\n",
       "  <tbody>\n",
       "    <tr>\n",
       "      <th>74</th>\n",
       "      <td>220.0</td>\n",
       "      <td>NaN</td>\n",
       "    </tr>\n",
       "    <tr>\n",
       "      <th>7896</th>\n",
       "      <td>142.0</td>\n",
       "      <td>NaN</td>\n",
       "    </tr>\n",
       "    <tr>\n",
       "      <th>22593</th>\n",
       "      <td>258.0</td>\n",
       "      <td>NaN</td>\n",
       "    </tr>\n",
       "  </tbody>\n",
       "</table>\n",
       "</div>"
      ],
      "text/plain": [
       "       co2_emission  co2_emissions\n",
       "74            220.0            NaN\n",
       "7896          142.0            NaN\n",
       "22593         258.0            NaN"
      ]
     },
     "metadata": {},
     "execution_count": 12
    }
   ],
   "metadata": {}
  },
  {
   "cell_type": "code",
   "execution_count": 13,
   "source": [
    "df2.count()[['co2_emission', 'co2_emissions']]"
   ],
   "outputs": [
    {
     "output_type": "execute_result",
     "data": {
      "text/plain": [
       "co2_emission     27329\n",
       "co2_emissions    27336\n",
       "dtype: int64"
      ]
     },
     "metadata": {},
     "execution_count": 13
    }
   ],
   "metadata": {}
  },
  {
   "cell_type": "code",
   "execution_count": 14,
   "source": [
    "df2 = combine_CO2_columns(df2)"
   ],
   "outputs": [],
   "metadata": {}
  },
  {
   "cell_type": "code",
   "execution_count": 15,
   "source": [
    "df2.count()['co2_emissions']"
   ],
   "outputs": [
    {
     "output_type": "execute_result",
     "data": {
      "text/plain": [
       "27339"
      ]
     },
     "metadata": {},
     "execution_count": 15
    }
   ],
   "metadata": {}
  },
  {
   "cell_type": "markdown",
   "source": [
    "#### Convert emission_scheme column to boolean to show if a car is ULEZ compliant or not."
   ],
   "metadata": {}
  },
  {
   "cell_type": "code",
   "execution_count": 16,
   "source": [
    "df2['emission_scheme'].unique()"
   ],
   "outputs": [
    {
     "output_type": "execute_result",
     "data": {
      "text/plain": [
       "array(['ULEZ', None], dtype=object)"
      ]
     },
     "metadata": {},
     "execution_count": 16
    }
   ],
   "metadata": {}
  },
  {
   "cell_type": "code",
   "execution_count": 17,
   "source": [
    "df2 = convert_emission_scheme_to_boolean(df2)"
   ],
   "outputs": [],
   "metadata": {}
  },
  {
   "cell_type": "code",
   "execution_count": 18,
   "source": [
    "df2.ulez.unique()"
   ],
   "outputs": [
    {
     "output_type": "execute_result",
     "data": {
      "text/plain": [
       "array([1, 0])"
      ]
     },
     "metadata": {},
     "execution_count": 18
    }
   ],
   "metadata": {}
  },
  {
   "cell_type": "markdown",
   "source": [
    "#### Fix datatypes of columns, and make data entries lowercase"
   ],
   "metadata": {}
  },
  {
   "cell_type": "code",
   "execution_count": 19,
   "source": [
    "df2 = clean_round1(df2)"
   ],
   "outputs": [],
   "metadata": {}
  },
  {
   "cell_type": "code",
   "execution_count": 20,
   "source": [
    "df2.head()"
   ],
   "outputs": [
    {
     "output_type": "execute_result",
     "data": {
      "text/html": [
       "<div>\n",
       "<style scoped>\n",
       "    .dataframe tbody tr th:only-of-type {\n",
       "        vertical-align: middle;\n",
       "    }\n",
       "\n",
       "    .dataframe tbody tr th {\n",
       "        vertical-align: top;\n",
       "    }\n",
       "\n",
       "    .dataframe thead th {\n",
       "        text-align: right;\n",
       "    }\n",
       "</style>\n",
       "<table border=\"1\" class=\"dataframe\">\n",
       "  <thead>\n",
       "    <tr style=\"text-align: right;\">\n",
       "      <th></th>\n",
       "      <th>make</th>\n",
       "      <th>model</th>\n",
       "      <th>trim</th>\n",
       "      <th>manufactured_year</th>\n",
       "      <th>body_type</th>\n",
       "      <th>mileage</th>\n",
       "      <th>engine_size</th>\n",
       "      <th>transmission</th>\n",
       "      <th>fuel_type</th>\n",
       "      <th>doors</th>\n",
       "      <th>...</th>\n",
       "      <th>combined</th>\n",
       "      <th>co2_emissions</th>\n",
       "      <th>insurance_group</th>\n",
       "      <th>seller_segment</th>\n",
       "      <th>seller_rating</th>\n",
       "      <th>total_reviews</th>\n",
       "      <th>region</th>\n",
       "      <th>county</th>\n",
       "      <th>town</th>\n",
       "      <th>ulez</th>\n",
       "    </tr>\n",
       "  </thead>\n",
       "  <tbody>\n",
       "    <tr>\n",
       "      <th>0</th>\n",
       "      <td>ds-automobiles</td>\n",
       "      <td>ds-3</td>\n",
       "      <td>prestige</td>\n",
       "      <td>2018</td>\n",
       "      <td>hatchback</td>\n",
       "      <td>31537</td>\n",
       "      <td>1.6</td>\n",
       "      <td>manual</td>\n",
       "      <td>diesel</td>\n",
       "      <td>3</td>\n",
       "      <td>...</td>\n",
       "      <td>78.5</td>\n",
       "      <td>94</td>\n",
       "      <td>26e</td>\n",
       "      <td>independent</td>\n",
       "      <td>4.7</td>\n",
       "      <td>13067</td>\n",
       "      <td>south_east</td>\n",
       "      <td>kent</td>\n",
       "      <td>addington</td>\n",
       "      <td>1</td>\n",
       "    </tr>\n",
       "    <tr>\n",
       "      <th>1</th>\n",
       "      <td>vauxhall</td>\n",
       "      <td>astra</td>\n",
       "      <td>sxi</td>\n",
       "      <td>2007</td>\n",
       "      <td>hatchback</td>\n",
       "      <td>70000</td>\n",
       "      <td>1.4</td>\n",
       "      <td>manual</td>\n",
       "      <td>petrol</td>\n",
       "      <td>3</td>\n",
       "      <td>...</td>\n",
       "      <td>46.3</td>\n",
       "      <td>146</td>\n",
       "      <td>10e</td>\n",
       "      <td>independent</td>\n",
       "      <td>5.0</td>\n",
       "      <td>18</td>\n",
       "      <td>london</td>\n",
       "      <td>middlesex</td>\n",
       "      <td>hounslow</td>\n",
       "      <td>1</td>\n",
       "    </tr>\n",
       "    <tr>\n",
       "      <th>2</th>\n",
       "      <td>volkswagen</td>\n",
       "      <td>polo</td>\n",
       "      <td>moda</td>\n",
       "      <td>2010</td>\n",
       "      <td>hatchback</td>\n",
       "      <td>89000</td>\n",
       "      <td>1.2</td>\n",
       "      <td>manual</td>\n",
       "      <td>petrol</td>\n",
       "      <td>3</td>\n",
       "      <td>...</td>\n",
       "      <td>51.4</td>\n",
       "      <td>128</td>\n",
       "      <td>05e</td>\n",
       "      <td>independent</td>\n",
       "      <td>4.8</td>\n",
       "      <td>125</td>\n",
       "      <td>london</td>\n",
       "      <td>hertfordshire</td>\n",
       "      <td>barnet</td>\n",
       "      <td>1</td>\n",
       "    </tr>\n",
       "    <tr>\n",
       "      <th>3</th>\n",
       "      <td>vauxhall</td>\n",
       "      <td>astra</td>\n",
       "      <td>sxi</td>\n",
       "      <td>2008</td>\n",
       "      <td>hatchback</td>\n",
       "      <td>117000</td>\n",
       "      <td>1.4</td>\n",
       "      <td>manual</td>\n",
       "      <td>petrol</td>\n",
       "      <td>5</td>\n",
       "      <td>...</td>\n",
       "      <td>46.3</td>\n",
       "      <td>146</td>\n",
       "      <td>10e</td>\n",
       "      <td>independent</td>\n",
       "      <td>4.4</td>\n",
       "      <td>7</td>\n",
       "      <td>london</td>\n",
       "      <td>essex</td>\n",
       "      <td>ilford</td>\n",
       "      <td>1</td>\n",
       "    </tr>\n",
       "    <tr>\n",
       "      <th>4</th>\n",
       "      <td>mazda</td>\n",
       "      <td>mazda3</td>\n",
       "      <td>sport</td>\n",
       "      <td>2007</td>\n",
       "      <td>hatchback</td>\n",
       "      <td>93500</td>\n",
       "      <td>2.0</td>\n",
       "      <td>manual</td>\n",
       "      <td>petrol</td>\n",
       "      <td>5</td>\n",
       "      <td>...</td>\n",
       "      <td>35.8</td>\n",
       "      <td>189</td>\n",
       "      <td>20e</td>\n",
       "      <td>independent</td>\n",
       "      <td>5.0</td>\n",
       "      <td>18</td>\n",
       "      <td>south_west</td>\n",
       "      <td>wiltshire</td>\n",
       "      <td>swindon</td>\n",
       "      <td>1</td>\n",
       "    </tr>\n",
       "  </tbody>\n",
       "</table>\n",
       "<p>5 rows × 42 columns</p>\n",
       "</div>"
      ],
      "text/plain": [
       "             make   model      trim  manufactured_year  body_type  mileage  \\\n",
       "0  ds-automobiles    ds-3  prestige               2018  hatchback    31537   \n",
       "1        vauxhall   astra       sxi               2007  hatchback    70000   \n",
       "2      volkswagen    polo      moda               2010  hatchback    89000   \n",
       "3        vauxhall   astra       sxi               2008  hatchback   117000   \n",
       "4           mazda  mazda3     sport               2007  hatchback    93500   \n",
       "\n",
       "   engine_size transmission fuel_type  doors  ...  combined  co2_emissions  \\\n",
       "0          1.6       manual    diesel      3  ...      78.5             94   \n",
       "1          1.4       manual    petrol      3  ...      46.3            146   \n",
       "2          1.2       manual    petrol      3  ...      51.4            128   \n",
       "3          1.4       manual    petrol      5  ...      46.3            146   \n",
       "4          2.0       manual    petrol      5  ...      35.8            189   \n",
       "\n",
       "   insurance_group  seller_segment  seller_rating  total_reviews      region  \\\n",
       "0              26e     independent            4.7          13067  south_east   \n",
       "1              10e     independent            5.0             18      london   \n",
       "2              05e     independent            4.8            125      london   \n",
       "3              10e     independent            4.4              7      london   \n",
       "4              20e     independent            5.0             18  south_west   \n",
       "\n",
       "          county       town  ulez  \n",
       "0           kent  addington     1  \n",
       "1      middlesex   hounslow     1  \n",
       "2  hertfordshire     barnet     1  \n",
       "3          essex     ilford     1  \n",
       "4      wiltshire    swindon     1  \n",
       "\n",
       "[5 rows x 42 columns]"
      ]
     },
     "metadata": {},
     "execution_count": 20
    }
   ],
   "metadata": {}
  },
  {
   "cell_type": "code",
   "execution_count": 21,
   "source": [
    "df2.dtypes"
   ],
   "outputs": [
    {
     "output_type": "execute_result",
     "data": {
      "text/plain": [
       "make                            object\n",
       "model                           object\n",
       "trim                            object\n",
       "manufactured_year                Int64\n",
       "body_type                     category\n",
       "mileage                          Int64\n",
       "engine_size                    float64\n",
       "transmission                  category\n",
       "fuel_type                     category\n",
       "doors                            Int64\n",
       "seats                            Int64\n",
       "number_of_owners                 Int64\n",
       "vehicle_location_latitude      float64\n",
       "vehicle_location_longitude     float64\n",
       "imported                         int64\n",
       "price                            int64\n",
       "number_of_photos                 int64\n",
       "tax                              Int64\n",
       "top_speed                        Int64\n",
       "cylinders                        Int64\n",
       "valves                           Int64\n",
       "engine_power                     Int64\n",
       "engine_torque                  float64\n",
       "height                           Int64\n",
       "length                           Int64\n",
       "wheelbase                        Int64\n",
       "width                            Int64\n",
       "fuel_tank_capacity             float64\n",
       "boot_space_seats_up              Int64\n",
       "boot_space_seats_down            Int64\n",
       "urban                          float64\n",
       "extra_urban                    float64\n",
       "combined                       float64\n",
       "co2_emissions                    Int64\n",
       "insurance_group               category\n",
       "seller_segment                category\n",
       "seller_rating                  float64\n",
       "total_reviews                    Int64\n",
       "region                        category\n",
       "county                        category\n",
       "town                          category\n",
       "ulez                             int64\n",
       "dtype: object"
      ]
     },
     "metadata": {},
     "execution_count": 21
    }
   ],
   "metadata": {}
  },
  {
   "cell_type": "markdown",
   "source": [
    "#### Combine make, model and trim into one column."
   ],
   "metadata": {}
  },
  {
   "cell_type": "code",
   "execution_count": 22,
   "source": [
    "df2 = combine_make_model_trim(df2)"
   ],
   "outputs": [],
   "metadata": {}
  },
  {
   "cell_type": "code",
   "execution_count": 23,
   "source": [
    "df2.head()"
   ],
   "outputs": [
    {
     "output_type": "execute_result",
     "data": {
      "text/html": [
       "<div>\n",
       "<style scoped>\n",
       "    .dataframe tbody tr th:only-of-type {\n",
       "        vertical-align: middle;\n",
       "    }\n",
       "\n",
       "    .dataframe tbody tr th {\n",
       "        vertical-align: top;\n",
       "    }\n",
       "\n",
       "    .dataframe thead th {\n",
       "        text-align: right;\n",
       "    }\n",
       "</style>\n",
       "<table border=\"1\" class=\"dataframe\">\n",
       "  <thead>\n",
       "    <tr style=\"text-align: right;\">\n",
       "      <th></th>\n",
       "      <th>make_model_trim</th>\n",
       "      <th>manufactured_year</th>\n",
       "      <th>body_type</th>\n",
       "      <th>mileage</th>\n",
       "      <th>engine_size</th>\n",
       "      <th>transmission</th>\n",
       "      <th>fuel_type</th>\n",
       "      <th>doors</th>\n",
       "      <th>seats</th>\n",
       "      <th>number_of_owners</th>\n",
       "      <th>...</th>\n",
       "      <th>combined</th>\n",
       "      <th>co2_emissions</th>\n",
       "      <th>insurance_group</th>\n",
       "      <th>seller_segment</th>\n",
       "      <th>seller_rating</th>\n",
       "      <th>total_reviews</th>\n",
       "      <th>region</th>\n",
       "      <th>county</th>\n",
       "      <th>town</th>\n",
       "      <th>ulez</th>\n",
       "    </tr>\n",
       "  </thead>\n",
       "  <tbody>\n",
       "    <tr>\n",
       "      <th>0</th>\n",
       "      <td>ds-automobiles_ds-3_prestige</td>\n",
       "      <td>2018</td>\n",
       "      <td>hatchback</td>\n",
       "      <td>31537</td>\n",
       "      <td>1.6</td>\n",
       "      <td>manual</td>\n",
       "      <td>diesel</td>\n",
       "      <td>3</td>\n",
       "      <td>5</td>\n",
       "      <td>1</td>\n",
       "      <td>...</td>\n",
       "      <td>78.5</td>\n",
       "      <td>94</td>\n",
       "      <td>26e</td>\n",
       "      <td>independent</td>\n",
       "      <td>4.7</td>\n",
       "      <td>13067</td>\n",
       "      <td>south_east</td>\n",
       "      <td>kent</td>\n",
       "      <td>addington</td>\n",
       "      <td>1</td>\n",
       "    </tr>\n",
       "    <tr>\n",
       "      <th>1</th>\n",
       "      <td>vauxhall_astra_sxi</td>\n",
       "      <td>2007</td>\n",
       "      <td>hatchback</td>\n",
       "      <td>70000</td>\n",
       "      <td>1.4</td>\n",
       "      <td>manual</td>\n",
       "      <td>petrol</td>\n",
       "      <td>3</td>\n",
       "      <td>5</td>\n",
       "      <td>&lt;NA&gt;</td>\n",
       "      <td>...</td>\n",
       "      <td>46.3</td>\n",
       "      <td>146</td>\n",
       "      <td>10e</td>\n",
       "      <td>independent</td>\n",
       "      <td>5.0</td>\n",
       "      <td>18</td>\n",
       "      <td>london</td>\n",
       "      <td>middlesex</td>\n",
       "      <td>hounslow</td>\n",
       "      <td>1</td>\n",
       "    </tr>\n",
       "    <tr>\n",
       "      <th>2</th>\n",
       "      <td>volkswagen_polo_moda</td>\n",
       "      <td>2010</td>\n",
       "      <td>hatchback</td>\n",
       "      <td>89000</td>\n",
       "      <td>1.2</td>\n",
       "      <td>manual</td>\n",
       "      <td>petrol</td>\n",
       "      <td>3</td>\n",
       "      <td>5</td>\n",
       "      <td>&lt;NA&gt;</td>\n",
       "      <td>...</td>\n",
       "      <td>51.4</td>\n",
       "      <td>128</td>\n",
       "      <td>05e</td>\n",
       "      <td>independent</td>\n",
       "      <td>4.8</td>\n",
       "      <td>125</td>\n",
       "      <td>london</td>\n",
       "      <td>hertfordshire</td>\n",
       "      <td>barnet</td>\n",
       "      <td>1</td>\n",
       "    </tr>\n",
       "    <tr>\n",
       "      <th>3</th>\n",
       "      <td>vauxhall_astra_sxi</td>\n",
       "      <td>2008</td>\n",
       "      <td>hatchback</td>\n",
       "      <td>117000</td>\n",
       "      <td>1.4</td>\n",
       "      <td>manual</td>\n",
       "      <td>petrol</td>\n",
       "      <td>5</td>\n",
       "      <td>5</td>\n",
       "      <td>3</td>\n",
       "      <td>...</td>\n",
       "      <td>46.3</td>\n",
       "      <td>146</td>\n",
       "      <td>10e</td>\n",
       "      <td>independent</td>\n",
       "      <td>4.4</td>\n",
       "      <td>7</td>\n",
       "      <td>london</td>\n",
       "      <td>essex</td>\n",
       "      <td>ilford</td>\n",
       "      <td>1</td>\n",
       "    </tr>\n",
       "    <tr>\n",
       "      <th>4</th>\n",
       "      <td>mazda_mazda3_sport</td>\n",
       "      <td>2007</td>\n",
       "      <td>hatchback</td>\n",
       "      <td>93500</td>\n",
       "      <td>2.0</td>\n",
       "      <td>manual</td>\n",
       "      <td>petrol</td>\n",
       "      <td>5</td>\n",
       "      <td>5</td>\n",
       "      <td>2</td>\n",
       "      <td>...</td>\n",
       "      <td>35.8</td>\n",
       "      <td>189</td>\n",
       "      <td>20e</td>\n",
       "      <td>independent</td>\n",
       "      <td>5.0</td>\n",
       "      <td>18</td>\n",
       "      <td>south_west</td>\n",
       "      <td>wiltshire</td>\n",
       "      <td>swindon</td>\n",
       "      <td>1</td>\n",
       "    </tr>\n",
       "  </tbody>\n",
       "</table>\n",
       "<p>5 rows × 40 columns</p>\n",
       "</div>"
      ],
      "text/plain": [
       "                make_model_trim  manufactured_year  body_type  mileage  \\\n",
       "0  ds-automobiles_ds-3_prestige               2018  hatchback    31537   \n",
       "1            vauxhall_astra_sxi               2007  hatchback    70000   \n",
       "2          volkswagen_polo_moda               2010  hatchback    89000   \n",
       "3            vauxhall_astra_sxi               2008  hatchback   117000   \n",
       "4            mazda_mazda3_sport               2007  hatchback    93500   \n",
       "\n",
       "   engine_size transmission fuel_type  doors  seats  number_of_owners  ...  \\\n",
       "0          1.6       manual    diesel      3      5                 1  ...   \n",
       "1          1.4       manual    petrol      3      5              <NA>  ...   \n",
       "2          1.2       manual    petrol      3      5              <NA>  ...   \n",
       "3          1.4       manual    petrol      5      5                 3  ...   \n",
       "4          2.0       manual    petrol      5      5                 2  ...   \n",
       "\n",
       "   combined  co2_emissions  insurance_group  seller_segment  seller_rating  \\\n",
       "0      78.5             94              26e     independent            4.7   \n",
       "1      46.3            146              10e     independent            5.0   \n",
       "2      51.4            128              05e     independent            4.8   \n",
       "3      46.3            146              10e     independent            4.4   \n",
       "4      35.8            189              20e     independent            5.0   \n",
       "\n",
       "   total_reviews      region         county       town  ulez  \n",
       "0          13067  south_east           kent  addington     1  \n",
       "1             18      london      middlesex   hounslow     1  \n",
       "2            125      london  hertfordshire     barnet     1  \n",
       "3              7      london          essex     ilford     1  \n",
       "4             18  south_west      wiltshire    swindon     1  \n",
       "\n",
       "[5 rows x 40 columns]"
      ]
     },
     "metadata": {},
     "execution_count": 23
    }
   ],
   "metadata": {}
  },
  {
   "cell_type": "code",
   "execution_count": 110,
   "source": [
    "for row in df2[df2.body_type.isnull()]:\n",
    "    print(row)"
   ],
   "outputs": [
    {
     "output_type": "stream",
     "name": "stdout",
     "text": [
      "make_model_trim\n",
      "manufactured_year\n",
      "body_type\n",
      "mileage\n",
      "engine_size\n",
      "transmission\n",
      "fuel_type\n",
      "doors\n",
      "seats\n",
      "number_of_owners\n",
      "vehicle_location_latitude\n",
      "vehicle_location_longitude\n",
      "imported\n",
      "price\n",
      "number_of_photos\n",
      "tax\n",
      "top_speed\n",
      "cylinders\n",
      "valves\n",
      "engine_power\n",
      "engine_torque\n",
      "height\n",
      "length\n",
      "wheelbase\n",
      "width\n",
      "fuel_tank_capacity\n",
      "boot_space_seats_up\n",
      "boot_space_seats_down\n",
      "urban\n",
      "extra_urban\n",
      "combined\n",
      "co2_emissions\n",
      "insurance_group\n",
      "seller_segment\n",
      "seller_rating\n",
      "total_reviews\n",
      "region\n",
      "county\n",
      "town\n",
      "ulez\n"
     ]
    }
   ],
   "metadata": {}
  },
  {
   "cell_type": "code",
   "execution_count": 98,
   "source": [
    "df2.groupby(['make_model_trim', 'manufactured_year'])['fuel_type'].agg(pd.Series.mode)"
   ],
   "outputs": [
    {
     "output_type": "execute_result",
     "data": {
      "text/plain": [
       "2.0"
      ]
     },
     "metadata": {},
     "execution_count": 98
    }
   ],
   "metadata": {}
  },
  {
   "cell_type": "code",
   "execution_count": 77,
   "source": [
    "get_percentage_nulls(df2)[25:]"
   ],
   "outputs": [
    {
     "output_type": "execute_result",
     "data": {
      "text/plain": [
       "engine_size          0.873849\n",
       "mileage              0.169016\n",
       "doors                0.140247\n",
       "manufactured_year    0.075518\n",
       "body_type            0.064730\n",
       "valves               0.025173\n",
       "cylinders            0.025173\n",
       "engine_power         0.010788\n",
       "transmission         0.003596\n",
       "fuel_type            0.003596\n",
       "make_model_trim      0.000000\n",
       "number_of_photos     0.000000\n",
       "price                0.000000\n",
       "imported             0.000000\n",
       "ulez                 0.000000\n",
       "dtype: float64"
      ]
     },
     "metadata": {},
     "execution_count": 77
    }
   ],
   "metadata": {}
  },
  {
   "cell_type": "code",
   "execution_count": 79,
   "source": [
    "def drop_rows_with_small_percentage_of_missing_values(df):\n",
    "\n",
    "    df=df.copy()\n",
    "    columns=[]\n",
    "    for index, percentage in get_percentage_nulls(df).items():\n",
    "        if percentage < 0.1:\n",
    "            columns.append(index)\n",
    "    \n",
    "    return df.dropna(subset=columns)\n"
   ],
   "outputs": [],
   "metadata": {}
  },
  {
   "cell_type": "code",
   "execution_count": 83,
   "source": [
    "df2 = drop_rows_with_small_percentage_of_missing_values(df2)"
   ],
   "outputs": [],
   "metadata": {}
  },
  {
   "cell_type": "code",
   "execution_count": 88,
   "source": [
    "get_percentage_nulls(df2).index"
   ],
   "outputs": [
    {
     "output_type": "execute_result",
     "data": {
      "text/plain": [
       "Index(['number_of_owners', 'boot_space_seats_down', 'urban', 'extra_urban',\n",
       "       'seller_rating', 'total_reviews', 'vehicle_location_longitude',\n",
       "       'vehicle_location_latitude', 'boot_space_seats_up', 'seller_segment',\n",
       "       'county', 'region', 'town', 'fuel_tank_capacity', 'combined', 'tax',\n",
       "       'engine_torque', 'insurance_group', 'top_speed', 'width', 'wheelbase',\n",
       "       'height', 'length', 'seats', 'co2_emissions', 'engine_size', 'mileage',\n",
       "       'doors', 'make_model_trim', 'manufactured_year', 'engine_power',\n",
       "       'valves', 'cylinders', 'number_of_photos', 'price', 'imported',\n",
       "       'fuel_type', 'transmission', 'body_type', 'ulez'],\n",
       "      dtype='object')"
      ]
     },
     "metadata": {},
     "execution_count": 88
    }
   ],
   "metadata": {}
  },
  {
   "cell_type": "code",
   "execution_count": null,
   "source": [
    "def fill_columns_with_missing_values():\n",
    "    \n",
    "    columns = ['boot_space_seats_down', 'urban', 'extra_urban',\n",
    "     'boot_space_seats_up', 'fuel_tank_capacity', 'combined', 'tax',\n",
    "     'engine_torque', 'insurance_group', 'top_speed', 'width', 'wheelbase',\n",
    "     'height', 'length', 'seats', 'co2_emissions', 'engine_size', 'mileage',\n",
    "     'doors']\n",
    "\n",
    "    df = df.copy()\n",
    "    for column in columns:\n",
    "        df[df[column].isnull()][column]"
   ],
   "outputs": [],
   "metadata": {}
  },
  {
   "cell_type": "code",
   "execution_count": 153,
   "source": [
    "b = df2.manufactured_year.mode()"
   ],
   "outputs": [],
   "metadata": {}
  },
  {
   "cell_type": "code",
   "execution_count": 155,
   "source": [
    "df2.groupby(['make_model_trim','manufactured_year'], sort=False)['doors'].apply(lambda x: x.fillna(x.mode())).isn"
   ],
   "outputs": [
    {
     "output_type": "execute_result",
     "data": {
      "text/plain": [
       "0        3\n",
       "1        3\n",
       "2        3\n",
       "3        5\n",
       "4        5\n",
       "        ..\n",
       "27803    5\n",
       "27804    5\n",
       "27805    5\n",
       "27806    5\n",
       "27807    5\n",
       "Name: doors, Length: 27761, dtype: Int64"
      ]
     },
     "metadata": {},
     "execution_count": 155
    }
   ],
   "metadata": {}
  },
  {
   "cell_type": "code",
   "execution_count": 137,
   "source": [
    "df2.groupby(['make_model_trim']).mode().iloc[0]"
   ],
   "outputs": [
    {
     "output_type": "error",
     "ename": "AttributeError",
     "evalue": "'DataFrameGroupBy' object has no attribute 'mode'",
     "traceback": [
      "\u001b[0;31m---------------------------------------------------------------------------\u001b[0m",
      "\u001b[0;31mAttributeError\u001b[0m                            Traceback (most recent call last)",
      "\u001b[0;32m/tmp/ipykernel_3009/2942130638.py\u001b[0m in \u001b[0;36m<module>\u001b[0;34m\u001b[0m\n\u001b[0;32m----> 1\u001b[0;31m \u001b[0mdf2\u001b[0m\u001b[0;34m.\u001b[0m\u001b[0mgroupby\u001b[0m\u001b[0;34m(\u001b[0m\u001b[0;34m[\u001b[0m\u001b[0;34m'make_model_trim'\u001b[0m\u001b[0;34m]\u001b[0m\u001b[0;34m)\u001b[0m\u001b[0;34m.\u001b[0m\u001b[0mmode\u001b[0m\u001b[0;34m(\u001b[0m\u001b[0;34m)\u001b[0m\u001b[0;34m.\u001b[0m\u001b[0miloc\u001b[0m\u001b[0;34m[\u001b[0m\u001b[0;36m0\u001b[0m\u001b[0;34m]\u001b[0m\u001b[0;34m\u001b[0m\u001b[0;34m\u001b[0m\u001b[0m\n\u001b[0m",
      "\u001b[0;32m~/.pyenv/versions/3.9.7/envs/autotrader/lib/python3.9/site-packages/pandas/core/groupby/groupby.py\u001b[0m in \u001b[0;36m__getattr__\u001b[0;34m(self, attr)\u001b[0m\n\u001b[1;32m    909\u001b[0m             \u001b[0;32mreturn\u001b[0m \u001b[0mself\u001b[0m\u001b[0;34m[\u001b[0m\u001b[0mattr\u001b[0m\u001b[0;34m]\u001b[0m\u001b[0;34m\u001b[0m\u001b[0;34m\u001b[0m\u001b[0m\n\u001b[1;32m    910\u001b[0m \u001b[0;34m\u001b[0m\u001b[0m\n\u001b[0;32m--> 911\u001b[0;31m         raise AttributeError(\n\u001b[0m\u001b[1;32m    912\u001b[0m             \u001b[0;34mf\"'{type(self).__name__}' object has no attribute '{attr}'\"\u001b[0m\u001b[0;34m\u001b[0m\u001b[0;34m\u001b[0m\u001b[0m\n\u001b[1;32m    913\u001b[0m         )\n",
      "\u001b[0;31mAttributeError\u001b[0m: 'DataFrameGroupBy' object has no attribute 'mode'"
     ]
    }
   ],
   "metadata": {}
  },
  {
   "cell_type": "code",
   "execution_count": 127,
   "source": [
    "df2['boot_space_seats_down'].fillna(df2.groupby(['make_model_trim', 'manufactured_year'])['boot_space_seats_down'].transform('mean'))"
   ],
   "outputs": [
    {
     "output_type": "error",
     "ename": "TypeError",
     "evalue": "cannot safely cast non-equivalent object to int64",
     "traceback": [
      "\u001b[0;31m---------------------------------------------------------------------------\u001b[0m",
      "\u001b[0;31mTypeError\u001b[0m                                 Traceback (most recent call last)",
      "\u001b[0;32m~/.pyenv/versions/3.9.7/envs/autotrader/lib/python3.9/site-packages/pandas/core/arrays/integer.py\u001b[0m in \u001b[0;36msafe_cast\u001b[0;34m(values, dtype, copy)\u001b[0m\n\u001b[1;32m    125\u001b[0m     \u001b[0;32mtry\u001b[0m\u001b[0;34m:\u001b[0m\u001b[0;34m\u001b[0m\u001b[0;34m\u001b[0m\u001b[0m\n\u001b[0;32m--> 126\u001b[0;31m         \u001b[0;32mreturn\u001b[0m \u001b[0mvalues\u001b[0m\u001b[0;34m.\u001b[0m\u001b[0mastype\u001b[0m\u001b[0;34m(\u001b[0m\u001b[0mdtype\u001b[0m\u001b[0;34m,\u001b[0m \u001b[0mcasting\u001b[0m\u001b[0;34m=\u001b[0m\u001b[0;34m\"safe\"\u001b[0m\u001b[0;34m,\u001b[0m \u001b[0mcopy\u001b[0m\u001b[0;34m=\u001b[0m\u001b[0mcopy\u001b[0m\u001b[0;34m)\u001b[0m\u001b[0;34m\u001b[0m\u001b[0;34m\u001b[0m\u001b[0m\n\u001b[0m\u001b[1;32m    127\u001b[0m     \u001b[0;32mexcept\u001b[0m \u001b[0mTypeError\u001b[0m \u001b[0;32mas\u001b[0m \u001b[0merr\u001b[0m\u001b[0;34m:\u001b[0m\u001b[0;34m\u001b[0m\u001b[0;34m\u001b[0m\u001b[0m\n",
      "\u001b[0;31mTypeError\u001b[0m: Cannot cast array data from dtype('O') to dtype('int64') according to the rule 'safe'",
      "\nThe above exception was the direct cause of the following exception:\n",
      "\u001b[0;31mTypeError\u001b[0m                                 Traceback (most recent call last)",
      "\u001b[0;32m/tmp/ipykernel_3009/1541898584.py\u001b[0m in \u001b[0;36m<module>\u001b[0;34m\u001b[0m\n\u001b[0;32m----> 1\u001b[0;31m \u001b[0mdf2\u001b[0m\u001b[0;34m[\u001b[0m\u001b[0;34m'boot_space_seats_down'\u001b[0m\u001b[0;34m]\u001b[0m\u001b[0;34m.\u001b[0m\u001b[0mfillna\u001b[0m\u001b[0;34m(\u001b[0m\u001b[0mdf2\u001b[0m\u001b[0;34m.\u001b[0m\u001b[0mgroupby\u001b[0m\u001b[0;34m(\u001b[0m\u001b[0;34m[\u001b[0m\u001b[0;34m'make_model_trim'\u001b[0m\u001b[0;34m,\u001b[0m \u001b[0;34m'manufactured_year'\u001b[0m\u001b[0;34m]\u001b[0m\u001b[0;34m)\u001b[0m\u001b[0;34m[\u001b[0m\u001b[0;34m'boot_space_seats_down'\u001b[0m\u001b[0;34m]\u001b[0m\u001b[0;34m.\u001b[0m\u001b[0mtransform\u001b[0m\u001b[0;34m(\u001b[0m\u001b[0;34m'mean'\u001b[0m\u001b[0;34m)\u001b[0m\u001b[0;34m)\u001b[0m\u001b[0;34m\u001b[0m\u001b[0;34m\u001b[0m\u001b[0m\n\u001b[0m",
      "\u001b[0;32m~/.pyenv/versions/3.9.7/envs/autotrader/lib/python3.9/site-packages/pandas/util/_decorators.py\u001b[0m in \u001b[0;36mwrapper\u001b[0;34m(*args, **kwargs)\u001b[0m\n\u001b[1;32m    309\u001b[0m                     \u001b[0mstacklevel\u001b[0m\u001b[0;34m=\u001b[0m\u001b[0mstacklevel\u001b[0m\u001b[0;34m,\u001b[0m\u001b[0;34m\u001b[0m\u001b[0;34m\u001b[0m\u001b[0m\n\u001b[1;32m    310\u001b[0m                 )\n\u001b[0;32m--> 311\u001b[0;31m             \u001b[0;32mreturn\u001b[0m \u001b[0mfunc\u001b[0m\u001b[0;34m(\u001b[0m\u001b[0;34m*\u001b[0m\u001b[0margs\u001b[0m\u001b[0;34m,\u001b[0m \u001b[0;34m**\u001b[0m\u001b[0mkwargs\u001b[0m\u001b[0;34m)\u001b[0m\u001b[0;34m\u001b[0m\u001b[0;34m\u001b[0m\u001b[0m\n\u001b[0m\u001b[1;32m    312\u001b[0m \u001b[0;34m\u001b[0m\u001b[0m\n\u001b[1;32m    313\u001b[0m         \u001b[0;32mreturn\u001b[0m \u001b[0mwrapper\u001b[0m\u001b[0;34m\u001b[0m\u001b[0;34m\u001b[0m\u001b[0m\n",
      "\u001b[0;32m~/.pyenv/versions/3.9.7/envs/autotrader/lib/python3.9/site-packages/pandas/core/series.py\u001b[0m in \u001b[0;36mfillna\u001b[0;34m(self, value, method, axis, inplace, limit, downcast)\u001b[0m\n\u001b[1;32m   4814\u001b[0m         \u001b[0mdowncast\u001b[0m\u001b[0;34m=\u001b[0m\u001b[0;32mNone\u001b[0m\u001b[0;34m,\u001b[0m\u001b[0;34m\u001b[0m\u001b[0;34m\u001b[0m\u001b[0m\n\u001b[1;32m   4815\u001b[0m     ) -> Series | None:\n\u001b[0;32m-> 4816\u001b[0;31m         return super().fillna(\n\u001b[0m\u001b[1;32m   4817\u001b[0m             \u001b[0mvalue\u001b[0m\u001b[0;34m=\u001b[0m\u001b[0mvalue\u001b[0m\u001b[0;34m,\u001b[0m\u001b[0;34m\u001b[0m\u001b[0;34m\u001b[0m\u001b[0m\n\u001b[1;32m   4818\u001b[0m             \u001b[0mmethod\u001b[0m\u001b[0;34m=\u001b[0m\u001b[0mmethod\u001b[0m\u001b[0;34m,\u001b[0m\u001b[0;34m\u001b[0m\u001b[0;34m\u001b[0m\u001b[0m\n",
      "\u001b[0;32m~/.pyenv/versions/3.9.7/envs/autotrader/lib/python3.9/site-packages/pandas/core/generic.py\u001b[0m in \u001b[0;36mfillna\u001b[0;34m(self, value, method, axis, inplace, limit, downcast)\u001b[0m\n\u001b[1;32m   6357\u001b[0m                     )\n\u001b[1;32m   6358\u001b[0m \u001b[0;34m\u001b[0m\u001b[0m\n\u001b[0;32m-> 6359\u001b[0;31m                 new_data = self._mgr.fillna(\n\u001b[0m\u001b[1;32m   6360\u001b[0m                     \u001b[0mvalue\u001b[0m\u001b[0;34m=\u001b[0m\u001b[0mvalue\u001b[0m\u001b[0;34m,\u001b[0m \u001b[0mlimit\u001b[0m\u001b[0;34m=\u001b[0m\u001b[0mlimit\u001b[0m\u001b[0;34m,\u001b[0m \u001b[0minplace\u001b[0m\u001b[0;34m=\u001b[0m\u001b[0minplace\u001b[0m\u001b[0;34m,\u001b[0m \u001b[0mdowncast\u001b[0m\u001b[0;34m=\u001b[0m\u001b[0mdowncast\u001b[0m\u001b[0;34m\u001b[0m\u001b[0;34m\u001b[0m\u001b[0m\n\u001b[1;32m   6361\u001b[0m                 )\n",
      "\u001b[0;32m~/.pyenv/versions/3.9.7/envs/autotrader/lib/python3.9/site-packages/pandas/core/internals/managers.py\u001b[0m in \u001b[0;36mfillna\u001b[0;34m(self, value, limit, inplace, downcast)\u001b[0m\n\u001b[1;32m    408\u001b[0m \u001b[0;34m\u001b[0m\u001b[0m\n\u001b[1;32m    409\u001b[0m     \u001b[0;32mdef\u001b[0m \u001b[0mfillna\u001b[0m\u001b[0;34m(\u001b[0m\u001b[0mself\u001b[0m\u001b[0;34m:\u001b[0m \u001b[0mT\u001b[0m\u001b[0;34m,\u001b[0m \u001b[0mvalue\u001b[0m\u001b[0;34m,\u001b[0m \u001b[0mlimit\u001b[0m\u001b[0;34m,\u001b[0m \u001b[0minplace\u001b[0m\u001b[0;34m:\u001b[0m \u001b[0mbool\u001b[0m\u001b[0;34m,\u001b[0m \u001b[0mdowncast\u001b[0m\u001b[0;34m)\u001b[0m \u001b[0;34m->\u001b[0m \u001b[0mT\u001b[0m\u001b[0;34m:\u001b[0m\u001b[0;34m\u001b[0m\u001b[0;34m\u001b[0m\u001b[0m\n\u001b[0;32m--> 410\u001b[0;31m         return self.apply(\n\u001b[0m\u001b[1;32m    411\u001b[0m             \u001b[0;34m\"fillna\"\u001b[0m\u001b[0;34m,\u001b[0m \u001b[0mvalue\u001b[0m\u001b[0;34m=\u001b[0m\u001b[0mvalue\u001b[0m\u001b[0;34m,\u001b[0m \u001b[0mlimit\u001b[0m\u001b[0;34m=\u001b[0m\u001b[0mlimit\u001b[0m\u001b[0;34m,\u001b[0m \u001b[0minplace\u001b[0m\u001b[0;34m=\u001b[0m\u001b[0minplace\u001b[0m\u001b[0;34m,\u001b[0m \u001b[0mdowncast\u001b[0m\u001b[0;34m=\u001b[0m\u001b[0mdowncast\u001b[0m\u001b[0;34m\u001b[0m\u001b[0;34m\u001b[0m\u001b[0m\n\u001b[1;32m    412\u001b[0m         )\n",
      "\u001b[0;32m~/.pyenv/versions/3.9.7/envs/autotrader/lib/python3.9/site-packages/pandas/core/internals/managers.py\u001b[0m in \u001b[0;36mapply\u001b[0;34m(self, f, align_keys, ignore_failures, **kwargs)\u001b[0m\n\u001b[1;32m    325\u001b[0m                     \u001b[0mapplied\u001b[0m \u001b[0;34m=\u001b[0m \u001b[0mb\u001b[0m\u001b[0;34m.\u001b[0m\u001b[0mapply\u001b[0m\u001b[0;34m(\u001b[0m\u001b[0mf\u001b[0m\u001b[0;34m,\u001b[0m \u001b[0;34m**\u001b[0m\u001b[0mkwargs\u001b[0m\u001b[0;34m)\u001b[0m\u001b[0;34m\u001b[0m\u001b[0;34m\u001b[0m\u001b[0m\n\u001b[1;32m    326\u001b[0m                 \u001b[0;32melse\u001b[0m\u001b[0;34m:\u001b[0m\u001b[0;34m\u001b[0m\u001b[0;34m\u001b[0m\u001b[0m\n\u001b[0;32m--> 327\u001b[0;31m                     \u001b[0mapplied\u001b[0m \u001b[0;34m=\u001b[0m \u001b[0mgetattr\u001b[0m\u001b[0;34m(\u001b[0m\u001b[0mb\u001b[0m\u001b[0;34m,\u001b[0m \u001b[0mf\u001b[0m\u001b[0;34m)\u001b[0m\u001b[0;34m(\u001b[0m\u001b[0;34m**\u001b[0m\u001b[0mkwargs\u001b[0m\u001b[0;34m)\u001b[0m\u001b[0;34m\u001b[0m\u001b[0;34m\u001b[0m\u001b[0m\n\u001b[0m\u001b[1;32m    328\u001b[0m             \u001b[0;32mexcept\u001b[0m \u001b[0;34m(\u001b[0m\u001b[0mTypeError\u001b[0m\u001b[0;34m,\u001b[0m \u001b[0mNotImplementedError\u001b[0m\u001b[0;34m)\u001b[0m\u001b[0;34m:\u001b[0m\u001b[0;34m\u001b[0m\u001b[0;34m\u001b[0m\u001b[0m\n\u001b[1;32m    329\u001b[0m                 \u001b[0;32mif\u001b[0m \u001b[0;32mnot\u001b[0m \u001b[0mignore_failures\u001b[0m\u001b[0;34m:\u001b[0m\u001b[0;34m\u001b[0m\u001b[0;34m\u001b[0m\u001b[0m\n",
      "\u001b[0;32m~/.pyenv/versions/3.9.7/envs/autotrader/lib/python3.9/site-packages/pandas/core/internals/blocks.py\u001b[0m in \u001b[0;36mfillna\u001b[0;34m(self, value, limit, inplace, downcast)\u001b[0m\n\u001b[1;32m   1571\u001b[0m         \u001b[0mself\u001b[0m\u001b[0;34m,\u001b[0m \u001b[0mvalue\u001b[0m\u001b[0;34m,\u001b[0m \u001b[0mlimit\u001b[0m\u001b[0;34m=\u001b[0m\u001b[0;32mNone\u001b[0m\u001b[0;34m,\u001b[0m \u001b[0minplace\u001b[0m\u001b[0;34m:\u001b[0m \u001b[0mbool\u001b[0m \u001b[0;34m=\u001b[0m \u001b[0;32mFalse\u001b[0m\u001b[0;34m,\u001b[0m \u001b[0mdowncast\u001b[0m\u001b[0;34m=\u001b[0m\u001b[0;32mNone\u001b[0m\u001b[0;34m\u001b[0m\u001b[0;34m\u001b[0m\u001b[0m\n\u001b[1;32m   1572\u001b[0m     ) -> list[Block]:\n\u001b[0;32m-> 1573\u001b[0;31m         \u001b[0mvalues\u001b[0m \u001b[0;34m=\u001b[0m \u001b[0mself\u001b[0m\u001b[0;34m.\u001b[0m\u001b[0mvalues\u001b[0m\u001b[0;34m.\u001b[0m\u001b[0mfillna\u001b[0m\u001b[0;34m(\u001b[0m\u001b[0mvalue\u001b[0m\u001b[0;34m=\u001b[0m\u001b[0mvalue\u001b[0m\u001b[0;34m,\u001b[0m \u001b[0mlimit\u001b[0m\u001b[0;34m=\u001b[0m\u001b[0mlimit\u001b[0m\u001b[0;34m)\u001b[0m\u001b[0;34m\u001b[0m\u001b[0;34m\u001b[0m\u001b[0m\n\u001b[0m\u001b[1;32m   1574\u001b[0m         \u001b[0;32mreturn\u001b[0m \u001b[0;34m[\u001b[0m\u001b[0mself\u001b[0m\u001b[0;34m.\u001b[0m\u001b[0mmake_block_same_class\u001b[0m\u001b[0;34m(\u001b[0m\u001b[0mvalues\u001b[0m\u001b[0;34m=\u001b[0m\u001b[0mvalues\u001b[0m\u001b[0;34m)\u001b[0m\u001b[0;34m]\u001b[0m\u001b[0;34m\u001b[0m\u001b[0;34m\u001b[0m\u001b[0m\n\u001b[1;32m   1575\u001b[0m \u001b[0;34m\u001b[0m\u001b[0m\n",
      "\u001b[0;32m~/.pyenv/versions/3.9.7/envs/autotrader/lib/python3.9/site-packages/pandas/core/arrays/masked.py\u001b[0m in \u001b[0;36mfillna\u001b[0;34m(self, value, method, limit)\u001b[0m\n\u001b[1;32m    174\u001b[0m                 \u001b[0;31m# fill with value\u001b[0m\u001b[0;34m\u001b[0m\u001b[0;34m\u001b[0m\u001b[0m\n\u001b[1;32m    175\u001b[0m                 \u001b[0mnew_values\u001b[0m \u001b[0;34m=\u001b[0m \u001b[0mself\u001b[0m\u001b[0;34m.\u001b[0m\u001b[0mcopy\u001b[0m\u001b[0;34m(\u001b[0m\u001b[0;34m)\u001b[0m\u001b[0;34m\u001b[0m\u001b[0;34m\u001b[0m\u001b[0m\n\u001b[0;32m--> 176\u001b[0;31m                 \u001b[0mnew_values\u001b[0m\u001b[0;34m[\u001b[0m\u001b[0mmask\u001b[0m\u001b[0;34m]\u001b[0m \u001b[0;34m=\u001b[0m \u001b[0mvalue\u001b[0m\u001b[0;34m\u001b[0m\u001b[0;34m\u001b[0m\u001b[0m\n\u001b[0m\u001b[1;32m    177\u001b[0m         \u001b[0;32melse\u001b[0m\u001b[0;34m:\u001b[0m\u001b[0;34m\u001b[0m\u001b[0;34m\u001b[0m\u001b[0m\n\u001b[1;32m    178\u001b[0m             \u001b[0mnew_values\u001b[0m \u001b[0;34m=\u001b[0m \u001b[0mself\u001b[0m\u001b[0;34m.\u001b[0m\u001b[0mcopy\u001b[0m\u001b[0;34m(\u001b[0m\u001b[0;34m)\u001b[0m\u001b[0;34m\u001b[0m\u001b[0;34m\u001b[0m\u001b[0m\n",
      "\u001b[0;32m~/.pyenv/versions/3.9.7/envs/autotrader/lib/python3.9/site-packages/pandas/core/arrays/masked.py\u001b[0m in \u001b[0;36m__setitem__\u001b[0;34m(self, key, value)\u001b[0m\n\u001b[1;32m    186\u001b[0m         \u001b[0;32mif\u001b[0m \u001b[0m_is_scalar\u001b[0m\u001b[0;34m:\u001b[0m\u001b[0;34m\u001b[0m\u001b[0;34m\u001b[0m\u001b[0m\n\u001b[1;32m    187\u001b[0m             \u001b[0mvalue\u001b[0m \u001b[0;34m=\u001b[0m \u001b[0;34m[\u001b[0m\u001b[0mvalue\u001b[0m\u001b[0;34m]\u001b[0m\u001b[0;34m\u001b[0m\u001b[0;34m\u001b[0m\u001b[0m\n\u001b[0;32m--> 188\u001b[0;31m         \u001b[0mvalue\u001b[0m\u001b[0;34m,\u001b[0m \u001b[0mmask\u001b[0m \u001b[0;34m=\u001b[0m \u001b[0mself\u001b[0m\u001b[0;34m.\u001b[0m\u001b[0m_coerce_to_array\u001b[0m\u001b[0;34m(\u001b[0m\u001b[0mvalue\u001b[0m\u001b[0;34m)\u001b[0m\u001b[0;34m\u001b[0m\u001b[0;34m\u001b[0m\u001b[0m\n\u001b[0m\u001b[1;32m    189\u001b[0m \u001b[0;34m\u001b[0m\u001b[0m\n\u001b[1;32m    190\u001b[0m         \u001b[0;32mif\u001b[0m \u001b[0m_is_scalar\u001b[0m\u001b[0;34m:\u001b[0m\u001b[0;34m\u001b[0m\u001b[0;34m\u001b[0m\u001b[0m\n",
      "\u001b[0;32m~/.pyenv/versions/3.9.7/envs/autotrader/lib/python3.9/site-packages/pandas/core/arrays/integer.py\u001b[0m in \u001b[0;36m_coerce_to_array\u001b[0;34m(self, value)\u001b[0m\n\u001b[1;32m    332\u001b[0m \u001b[0;34m\u001b[0m\u001b[0m\n\u001b[1;32m    333\u001b[0m     \u001b[0;32mdef\u001b[0m \u001b[0m_coerce_to_array\u001b[0m\u001b[0;34m(\u001b[0m\u001b[0mself\u001b[0m\u001b[0;34m,\u001b[0m \u001b[0mvalue\u001b[0m\u001b[0;34m)\u001b[0m \u001b[0;34m->\u001b[0m \u001b[0mtuple\u001b[0m\u001b[0;34m[\u001b[0m\u001b[0mnp\u001b[0m\u001b[0;34m.\u001b[0m\u001b[0mndarray\u001b[0m\u001b[0;34m,\u001b[0m \u001b[0mnp\u001b[0m\u001b[0;34m.\u001b[0m\u001b[0mndarray\u001b[0m\u001b[0;34m]\u001b[0m\u001b[0;34m:\u001b[0m\u001b[0;34m\u001b[0m\u001b[0;34m\u001b[0m\u001b[0m\n\u001b[0;32m--> 334\u001b[0;31m         \u001b[0;32mreturn\u001b[0m \u001b[0mcoerce_to_array\u001b[0m\u001b[0;34m(\u001b[0m\u001b[0mvalue\u001b[0m\u001b[0;34m,\u001b[0m \u001b[0mdtype\u001b[0m\u001b[0;34m=\u001b[0m\u001b[0mself\u001b[0m\u001b[0;34m.\u001b[0m\u001b[0mdtype\u001b[0m\u001b[0;34m)\u001b[0m\u001b[0;34m\u001b[0m\u001b[0;34m\u001b[0m\u001b[0m\n\u001b[0m\u001b[1;32m    335\u001b[0m \u001b[0;34m\u001b[0m\u001b[0m\n\u001b[1;32m    336\u001b[0m     \u001b[0;32mdef\u001b[0m \u001b[0mastype\u001b[0m\u001b[0;34m(\u001b[0m\u001b[0mself\u001b[0m\u001b[0;34m,\u001b[0m \u001b[0mdtype\u001b[0m\u001b[0;34m,\u001b[0m \u001b[0mcopy\u001b[0m\u001b[0;34m:\u001b[0m \u001b[0mbool\u001b[0m \u001b[0;34m=\u001b[0m \u001b[0;32mTrue\u001b[0m\u001b[0;34m)\u001b[0m \u001b[0;34m->\u001b[0m \u001b[0mArrayLike\u001b[0m\u001b[0;34m:\u001b[0m\u001b[0;34m\u001b[0m\u001b[0;34m\u001b[0m\u001b[0m\n",
      "\u001b[0;32m~/.pyenv/versions/3.9.7/envs/autotrader/lib/python3.9/site-packages/pandas/core/arrays/integer.py\u001b[0m in \u001b[0;36mcoerce_to_array\u001b[0;34m(values, dtype, mask, copy)\u001b[0m\n\u001b[1;32m    227\u001b[0m         \u001b[0mvalues\u001b[0m \u001b[0;34m=\u001b[0m \u001b[0mvalues\u001b[0m\u001b[0;34m.\u001b[0m\u001b[0mcopy\u001b[0m\u001b[0;34m(\u001b[0m\u001b[0;34m)\u001b[0m\u001b[0;34m\u001b[0m\u001b[0;34m\u001b[0m\u001b[0m\n\u001b[1;32m    228\u001b[0m         \u001b[0mvalues\u001b[0m\u001b[0;34m[\u001b[0m\u001b[0mmask\u001b[0m\u001b[0;34m]\u001b[0m \u001b[0;34m=\u001b[0m \u001b[0;36m1\u001b[0m\u001b[0;34m\u001b[0m\u001b[0;34m\u001b[0m\u001b[0m\n\u001b[0;32m--> 229\u001b[0;31m         \u001b[0mvalues\u001b[0m \u001b[0;34m=\u001b[0m \u001b[0msafe_cast\u001b[0m\u001b[0;34m(\u001b[0m\u001b[0mvalues\u001b[0m\u001b[0;34m,\u001b[0m \u001b[0mdtype\u001b[0m\u001b[0;34m,\u001b[0m \u001b[0mcopy\u001b[0m\u001b[0;34m=\u001b[0m\u001b[0;32mFalse\u001b[0m\u001b[0;34m)\u001b[0m\u001b[0;34m\u001b[0m\u001b[0;34m\u001b[0m\u001b[0m\n\u001b[0m\u001b[1;32m    230\u001b[0m     \u001b[0;32melse\u001b[0m\u001b[0;34m:\u001b[0m\u001b[0;34m\u001b[0m\u001b[0;34m\u001b[0m\u001b[0m\n\u001b[1;32m    231\u001b[0m         \u001b[0mvalues\u001b[0m \u001b[0;34m=\u001b[0m \u001b[0msafe_cast\u001b[0m\u001b[0;34m(\u001b[0m\u001b[0mvalues\u001b[0m\u001b[0;34m,\u001b[0m \u001b[0mdtype\u001b[0m\u001b[0;34m,\u001b[0m \u001b[0mcopy\u001b[0m\u001b[0;34m=\u001b[0m\u001b[0;32mFalse\u001b[0m\u001b[0;34m)\u001b[0m\u001b[0;34m\u001b[0m\u001b[0;34m\u001b[0m\u001b[0m\n",
      "\u001b[0;32m~/.pyenv/versions/3.9.7/envs/autotrader/lib/python3.9/site-packages/pandas/core/arrays/integer.py\u001b[0m in \u001b[0;36msafe_cast\u001b[0;34m(values, dtype, copy)\u001b[0m\n\u001b[1;32m    131\u001b[0m             \u001b[0;32mreturn\u001b[0m \u001b[0mcasted\u001b[0m\u001b[0;34m\u001b[0m\u001b[0;34m\u001b[0m\u001b[0m\n\u001b[1;32m    132\u001b[0m \u001b[0;34m\u001b[0m\u001b[0m\n\u001b[0;32m--> 133\u001b[0;31m         raise TypeError(\n\u001b[0m\u001b[1;32m    134\u001b[0m             \u001b[0;34mf\"cannot safely cast non-equivalent {values.dtype} to {np.dtype(dtype)}\"\u001b[0m\u001b[0;34m\u001b[0m\u001b[0;34m\u001b[0m\u001b[0m\n\u001b[1;32m    135\u001b[0m         ) from err\n",
      "\u001b[0;31mTypeError\u001b[0m: cannot safely cast non-equivalent object to int64"
     ]
    }
   ],
   "metadata": {}
  },
  {
   "cell_type": "code",
   "execution_count": null,
   "source": [
    "def predict_no_of_owners(df):\n",
    "    \n",
    "    \n",
    "    \n",
    "    data = pd.read_csv(\"train.csv\")\n",
    "data = data[[\"Survived\", \"Pclass\", \"Sex\", \"SibSp\", \"Parch\", \"Fare\", \"Age\"]]\n",
    "\n",
    "data[\"Sex\"] = [1 if x==\"male\" else 0 for x in data[\"Sex\"]]\n",
    "\n",
    "test_data = data[data[\"Age\"].isnull()]\n",
    "data.dropna(inplace=True)\n",
    "\n",
    "y_train = data[\"Age\"]\n",
    "X_train = data.drop(\"Age\", axis=1)\n",
    "X_test = test_data.drop(\"Age\", axis=1)\n",
    "\n",
    "model = LinearRegression()\n",
    "model.fit(X_train, y_train)\n",
    "\n",
    "y_pred = model.predict(X_test)"
   ],
   "outputs": [],
   "metadata": {}
  },
  {
   "cell_type": "markdown",
   "source": [
    "## Output dataset to file <a id='pickle_data'></a>"
   ],
   "metadata": {}
  },
  {
   "cell_type": "markdown",
   "source": [
    "Save this dataset to a file which will hold the datatypes. There are still nulls in this dataset to preserve as much data as possible \n",
    "before performing exploratory data anaylysis. The effect of dropping nulls vs imputing values will be evaluated for the prediction model."
   ],
   "metadata": {}
  },
  {
   "cell_type": "code",
   "execution_count": 24,
   "source": [
    "df2.to_pickle(\"car_data.pkl\")"
   ],
   "outputs": [],
   "metadata": {}
  }
 ],
 "metadata": {
  "kernelspec": {
   "name": "python3",
   "display_name": "Python 3.9.7 64-bit ('autotrader': pyenv)"
  },
  "toc-autonumbering": true,
  "toc-showcode": false,
  "toc-showtags": false,
  "interpreter": {
   "hash": "d966630960032d7852cfb53842b67efc2f05d6a05e0885ba0f78d65426777e46"
  },
  "language_info": {
   "name": "python",
   "version": "3.9.7",
   "mimetype": "text/x-python",
   "codemirror_mode": {
    "name": "ipython",
    "version": 3
   },
   "pygments_lexer": "ipython3",
   "nbconvert_exporter": "python",
   "file_extension": ".py"
  }
 },
 "nbformat": 4,
 "nbformat_minor": 5
}